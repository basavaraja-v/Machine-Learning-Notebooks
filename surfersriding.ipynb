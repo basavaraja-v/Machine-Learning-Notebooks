{
  "nbformat": 4,
  "nbformat_minor": 0,
  "metadata": {
    "colab": {
      "provenance": [],
      "authorship_tag": "ABX9TyN4/w8I8dQyb7g/zuitGLKI",
      "include_colab_link": true
    },
    "kernelspec": {
      "name": "python3",
      "display_name": "Python 3"
    },
    "language_info": {
      "name": "python"
    }
  },
  "cells": [
    {
      "cell_type": "markdown",
      "metadata": {
        "id": "view-in-github",
        "colab_type": "text"
      },
      "source": [
        "<a href=\"https://colab.research.google.com/github/royaldevops/Machine-Learning-Notebooks/blob/main/surfersriding.ipynb\" target=\"_parent\"><img src=\"https://colab.research.google.com/assets/colab-badge.svg\" alt=\"Open In Colab\"/></a>"
      ]
    },
    {
      "cell_type": "code",
      "source": [
        "!pip install ultralytics"
      ],
      "metadata": {
        "colab": {
          "base_uri": "https://localhost:8080/"
        },
        "id": "V2tCwDPBcyFv",
        "outputId": "1cf8209a-d3f5-4908-c51d-0c98b9ec65a1"
      },
      "execution_count": 19,
      "outputs": [
        {
          "output_type": "stream",
          "name": "stdout",
          "text": [
            "Collecting ultralytics\n",
            "  Downloading ultralytics-8.0.124-py3-none-any.whl (612 kB)\n",
            "\u001b[?25l     \u001b[90m━━━━━━━━━━━━━━━━━━━━━━━━━━━━━━━━━━━━━━━━\u001b[0m \u001b[32m0.0/612.6 kB\u001b[0m \u001b[31m?\u001b[0m eta \u001b[36m-:--:--\u001b[0m\r\u001b[2K     \u001b[91m━━━━━━━━━━━━━━━━━━━━━━━━━━━━━━━━━━━━━\u001b[0m\u001b[90m╺\u001b[0m \u001b[32m604.2/612.6 kB\u001b[0m \u001b[31m22.0 MB/s\u001b[0m eta \u001b[36m0:00:01\u001b[0m\r\u001b[2K     \u001b[90m━━━━━━━━━━━━━━━━━━━━━━━━━━━━━━━━━━━━━━\u001b[0m \u001b[32m612.6/612.6 kB\u001b[0m \u001b[31m14.7 MB/s\u001b[0m eta \u001b[36m0:00:00\u001b[0m\n",
            "\u001b[?25hRequirement already satisfied: matplotlib>=3.2.2 in /usr/local/lib/python3.10/dist-packages (from ultralytics) (3.7.1)\n",
            "Requirement already satisfied: opencv-python>=4.6.0 in /usr/local/lib/python3.10/dist-packages (from ultralytics) (4.7.0.72)\n",
            "Requirement already satisfied: Pillow>=7.1.2 in /usr/local/lib/python3.10/dist-packages (from ultralytics) (8.4.0)\n",
            "Requirement already satisfied: PyYAML>=5.3.1 in /usr/local/lib/python3.10/dist-packages (from ultralytics) (6.0)\n",
            "Requirement already satisfied: requests>=2.23.0 in /usr/local/lib/python3.10/dist-packages (from ultralytics) (2.27.1)\n",
            "Requirement already satisfied: scipy>=1.4.1 in /usr/local/lib/python3.10/dist-packages (from ultralytics) (1.10.1)\n",
            "Requirement already satisfied: torch>=1.7.0 in /usr/local/lib/python3.10/dist-packages (from ultralytics) (2.0.1+cu118)\n",
            "Requirement already satisfied: torchvision>=0.8.1 in /usr/local/lib/python3.10/dist-packages (from ultralytics) (0.15.2+cu118)\n",
            "Requirement already satisfied: tqdm>=4.64.0 in /usr/local/lib/python3.10/dist-packages (from ultralytics) (4.65.0)\n",
            "Requirement already satisfied: pandas>=1.1.4 in /usr/local/lib/python3.10/dist-packages (from ultralytics) (1.5.3)\n",
            "Requirement already satisfied: seaborn>=0.11.0 in /usr/local/lib/python3.10/dist-packages (from ultralytics) (0.12.2)\n",
            "Requirement already satisfied: psutil in /usr/local/lib/python3.10/dist-packages (from ultralytics) (5.9.5)\n",
            "Requirement already satisfied: contourpy>=1.0.1 in /usr/local/lib/python3.10/dist-packages (from matplotlib>=3.2.2->ultralytics) (1.1.0)\n",
            "Requirement already satisfied: cycler>=0.10 in /usr/local/lib/python3.10/dist-packages (from matplotlib>=3.2.2->ultralytics) (0.11.0)\n",
            "Requirement already satisfied: fonttools>=4.22.0 in /usr/local/lib/python3.10/dist-packages (from matplotlib>=3.2.2->ultralytics) (4.40.0)\n",
            "Requirement already satisfied: kiwisolver>=1.0.1 in /usr/local/lib/python3.10/dist-packages (from matplotlib>=3.2.2->ultralytics) (1.4.4)\n",
            "Requirement already satisfied: numpy>=1.20 in /usr/local/lib/python3.10/dist-packages (from matplotlib>=3.2.2->ultralytics) (1.22.4)\n",
            "Requirement already satisfied: packaging>=20.0 in /usr/local/lib/python3.10/dist-packages (from matplotlib>=3.2.2->ultralytics) (23.1)\n",
            "Requirement already satisfied: pyparsing>=2.3.1 in /usr/local/lib/python3.10/dist-packages (from matplotlib>=3.2.2->ultralytics) (3.1.0)\n",
            "Requirement already satisfied: python-dateutil>=2.7 in /usr/local/lib/python3.10/dist-packages (from matplotlib>=3.2.2->ultralytics) (2.8.2)\n",
            "Requirement already satisfied: pytz>=2020.1 in /usr/local/lib/python3.10/dist-packages (from pandas>=1.1.4->ultralytics) (2022.7.1)\n",
            "Requirement already satisfied: urllib3<1.27,>=1.21.1 in /usr/local/lib/python3.10/dist-packages (from requests>=2.23.0->ultralytics) (1.26.16)\n",
            "Requirement already satisfied: certifi>=2017.4.17 in /usr/local/lib/python3.10/dist-packages (from requests>=2.23.0->ultralytics) (2023.5.7)\n",
            "Requirement already satisfied: charset-normalizer~=2.0.0 in /usr/local/lib/python3.10/dist-packages (from requests>=2.23.0->ultralytics) (2.0.12)\n",
            "Requirement already satisfied: idna<4,>=2.5 in /usr/local/lib/python3.10/dist-packages (from requests>=2.23.0->ultralytics) (3.4)\n",
            "Requirement already satisfied: filelock in /usr/local/lib/python3.10/dist-packages (from torch>=1.7.0->ultralytics) (3.12.2)\n",
            "Requirement already satisfied: typing-extensions in /usr/local/lib/python3.10/dist-packages (from torch>=1.7.0->ultralytics) (4.6.3)\n",
            "Requirement already satisfied: sympy in /usr/local/lib/python3.10/dist-packages (from torch>=1.7.0->ultralytics) (1.11.1)\n",
            "Requirement already satisfied: networkx in /usr/local/lib/python3.10/dist-packages (from torch>=1.7.0->ultralytics) (3.1)\n",
            "Requirement already satisfied: jinja2 in /usr/local/lib/python3.10/dist-packages (from torch>=1.7.0->ultralytics) (3.1.2)\n",
            "Requirement already satisfied: triton==2.0.0 in /usr/local/lib/python3.10/dist-packages (from torch>=1.7.0->ultralytics) (2.0.0)\n",
            "Requirement already satisfied: cmake in /usr/local/lib/python3.10/dist-packages (from triton==2.0.0->torch>=1.7.0->ultralytics) (3.25.2)\n",
            "Requirement already satisfied: lit in /usr/local/lib/python3.10/dist-packages (from triton==2.0.0->torch>=1.7.0->ultralytics) (16.0.6)\n",
            "Requirement already satisfied: six>=1.5 in /usr/local/lib/python3.10/dist-packages (from python-dateutil>=2.7->matplotlib>=3.2.2->ultralytics) (1.16.0)\n",
            "Requirement already satisfied: MarkupSafe>=2.0 in /usr/local/lib/python3.10/dist-packages (from jinja2->torch>=1.7.0->ultralytics) (2.1.3)\n",
            "Requirement already satisfied: mpmath>=0.19 in /usr/local/lib/python3.10/dist-packages (from sympy->torch>=1.7.0->ultralytics) (1.3.0)\n",
            "Installing collected packages: ultralytics\n",
            "Successfully installed ultralytics-8.0.124\n"
          ]
        }
      ]
    },
    {
      "cell_type": "code",
      "source": [
        "!yolo predict model=yolov8n.pt source='input.jpeg'"
      ],
      "metadata": {
        "colab": {
          "base_uri": "https://localhost:8080/"
        },
        "id": "beVBMyac7sie",
        "outputId": "31bb5bf8-d6e9-47e6-f93c-4aca75020771"
      },
      "execution_count": 6,
      "outputs": [
        {
          "output_type": "stream",
          "name": "stdout",
          "text": [
            "Ultralytics YOLOv8.0.124 🚀 Python-3.10.12 torch-2.0.1+cu118 CPU\n",
            "YOLOv8n summary (fused): 168 layers, 3151904 parameters, 0 gradients\n",
            "\n",
            "image 1/1 /content/input.jpeg: 384x640 1 person, 1 surfboard, 185.2ms\n",
            "Speed: 4.3ms preprocess, 185.2ms inference, 1.9ms postprocess per image at shape (1, 3, 384, 640)\n",
            "Results saved to \u001b[1mruns/detect/predict2\u001b[0m\n"
          ]
        }
      ]
    },
    {
      "cell_type": "code",
      "source": [
        "import ultralytics as ul\n",
        "\n",
        "# Load the YOLOv8n model\n",
        "model = ul.YOLO(\"yolov8n.pt\")\n",
        "\n",
        "# Predict on the image\n",
        "results = model.predict(source=\"input.jpeg\")\n",
        "\n",
        "for result in results:\n",
        "    class_names = result.names\n",
        "    predictions = result.boxes.cls\n",
        "    for class_idx in predictions:\n",
        "      if class_names[int(class_idx)] == 'surfboard':\n",
        "        print(\"The class is surfboard\")"
      ],
      "metadata": {
        "colab": {
          "base_uri": "https://localhost:8080/"
        },
        "id": "rAaVOu52FHU_",
        "outputId": "ba20f61e-1c3f-4164-c12f-eda7671356fe"
      },
      "execution_count": 116,
      "outputs": [
        {
          "output_type": "stream",
          "name": "stderr",
          "text": [
            "\n",
            "image 1/1 /content/input.jpeg: 384x640 1 person, 1 surfboard, 176.0ms\n",
            "Speed: 17.5ms preprocess, 176.0ms inference, 2.3ms postprocess per image at shape (1, 3, 384, 640)\n"
          ]
        },
        {
          "output_type": "stream",
          "name": "stdout",
          "text": [
            "The class is surfboard\n"
          ]
        }
      ]
    },
    {
      "cell_type": "code",
      "source": [
        "!mkdir results/surfboard\n",
        "!mkdir results/notsurfboard"
      ],
      "metadata": {
        "id": "F6KwB64A0lUI"
      },
      "execution_count": 118,
      "outputs": []
    },
    {
      "cell_type": "code",
      "source": [
        "import ultralytics as ul\n",
        "import cv2\n",
        "\n",
        "# Load the YOLOv8n model\n",
        "model = ul.YOLO(\"yolov8n.pt\")\n",
        "\n",
        "# Open the video\n",
        "video = cv2.VideoCapture(\"input_video.mp4\") #get it from [3]\n",
        "\n",
        "# Initialize a counter to keep track of the frame number\n",
        "frame_number = 0\n",
        "\n",
        "while video.isOpened() and frame_number < video.get(cv2.CAP_PROP_FRAME_COUNT):\n",
        "    # Read the next frame from the video\n",
        "    success, frame = video.read()\n",
        "\n",
        "    # If the frame was successfully read, predict the class of the objects in the frame\n",
        "    surfboard_found = False\n",
        "    if success:\n",
        "        results = model.predict(frame)\n",
        "\n",
        "        # For each result, check if the class is surfboard\n",
        "        for result in results:\n",
        "            class_names = result.names\n",
        "            predictions = result.boxes.cls\n",
        "            for class_idx in predictions:\n",
        "                if class_names[int(class_idx)] == 'surfboard' or class_names[int(class_idx)] == 'surfboards':\n",
        "                    # If the class is surfboard, save the frame to surfboard\n",
        "                    surfboard_found = True\n",
        "\n",
        "    if surfboard_found:\n",
        "      cv2.imwrite(\"results/surfboard/frame\"+str(frame_number)+\".jpg\", frame)\n",
        "    else:\n",
        "      # If the class is not surfboard, save the frame to notsurfboard\n",
        "      cv2.imwrite(\"results/notsurfboard/frame\"+str(frame_number)+\".jpg\", frame)\n",
        "\n",
        "    # Increment the frame number\n",
        "    frame_number += 1\n",
        "    print(\"frame number\", frame_number)\n",
        "\n",
        "# Close the video\n",
        "video.release()"
      ],
      "metadata": {
        "colab": {
          "base_uri": "https://localhost:8080/"
        },
        "id": "GM2s3g7JW8lx",
        "outputId": "b301c3de-4e24-4894-f26c-eb66180c4bb9"
      },
      "execution_count": 119,
      "outputs": [
        {
          "output_type": "stream",
          "name": "stderr",
          "text": [
            "\n",
            "0: 640x384 1 person, 169.1ms\n",
            "Speed: 5.4ms preprocess, 169.1ms inference, 1.5ms postprocess per image at shape (1, 3, 640, 384)\n",
            "\n",
            "0: 640x384 1 person, 174.3ms\n",
            "Speed: 4.6ms preprocess, 174.3ms inference, 1.4ms postprocess per image at shape (1, 3, 640, 384)\n"
          ]
        },
        {
          "output_type": "stream",
          "name": "stdout",
          "text": [
            "frame number 1\n"
          ]
        },
        {
          "output_type": "stream",
          "name": "stderr",
          "text": [
            "\n",
            "0: 640x384 1 person, 161.7ms\n",
            "Speed: 3.2ms preprocess, 161.7ms inference, 1.3ms postprocess per image at shape (1, 3, 640, 384)\n"
          ]
        },
        {
          "output_type": "stream",
          "name": "stdout",
          "text": [
            "frame number 2\n"
          ]
        },
        {
          "output_type": "stream",
          "name": "stderr",
          "text": [
            "\n",
            "0: 640x384 1 person, 162.2ms\n",
            "Speed: 3.5ms preprocess, 162.2ms inference, 1.7ms postprocess per image at shape (1, 3, 640, 384)\n"
          ]
        },
        {
          "output_type": "stream",
          "name": "stdout",
          "text": [
            "frame number 3\n"
          ]
        },
        {
          "output_type": "stream",
          "name": "stderr",
          "text": [
            "\n",
            "0: 640x384 1 person, 162.6ms\n",
            "Speed: 3.6ms preprocess, 162.6ms inference, 1.5ms postprocess per image at shape (1, 3, 640, 384)\n"
          ]
        },
        {
          "output_type": "stream",
          "name": "stdout",
          "text": [
            "frame number 4\n"
          ]
        },
        {
          "output_type": "stream",
          "name": "stderr",
          "text": [
            "\n",
            "0: 640x384 (no detections), 170.0ms\n",
            "Speed: 3.1ms preprocess, 170.0ms inference, 1.1ms postprocess per image at shape (1, 3, 640, 384)\n"
          ]
        },
        {
          "output_type": "stream",
          "name": "stdout",
          "text": [
            "frame number 5\n"
          ]
        },
        {
          "output_type": "stream",
          "name": "stderr",
          "text": [
            "\n",
            "0: 640x384 1 person, 178.2ms\n",
            "Speed: 4.8ms preprocess, 178.2ms inference, 1.5ms postprocess per image at shape (1, 3, 640, 384)\n"
          ]
        },
        {
          "output_type": "stream",
          "name": "stdout",
          "text": [
            "frame number 6\n"
          ]
        },
        {
          "output_type": "stream",
          "name": "stderr",
          "text": [
            "\n",
            "0: 640x384 1 person, 161.6ms\n",
            "Speed: 5.4ms preprocess, 161.6ms inference, 1.5ms postprocess per image at shape (1, 3, 640, 384)\n"
          ]
        },
        {
          "output_type": "stream",
          "name": "stdout",
          "text": [
            "frame number 7\n"
          ]
        },
        {
          "output_type": "stream",
          "name": "stderr",
          "text": [
            "\n",
            "0: 640x384 (no detections), 165.4ms\n",
            "Speed: 8.2ms preprocess, 165.4ms inference, 0.9ms postprocess per image at shape (1, 3, 640, 384)\n"
          ]
        },
        {
          "output_type": "stream",
          "name": "stdout",
          "text": [
            "frame number 8\n"
          ]
        },
        {
          "output_type": "stream",
          "name": "stderr",
          "text": [
            "\n",
            "0: 640x384 (no detections), 155.0ms\n",
            "Speed: 4.0ms preprocess, 155.0ms inference, 1.2ms postprocess per image at shape (1, 3, 640, 384)\n"
          ]
        },
        {
          "output_type": "stream",
          "name": "stdout",
          "text": [
            "frame number 9\n",
            "frame number 10\n"
          ]
        },
        {
          "output_type": "stream",
          "name": "stderr",
          "text": [
            "\n",
            "0: 640x384 (no detections), 172.4ms\n",
            "Speed: 4.6ms preprocess, 172.4ms inference, 1.0ms postprocess per image at shape (1, 3, 640, 384)\n",
            "\n",
            "0: 640x384 (no detections), 161.2ms\n",
            "Speed: 3.3ms preprocess, 161.2ms inference, 1.1ms postprocess per image at shape (1, 3, 640, 384)\n"
          ]
        },
        {
          "output_type": "stream",
          "name": "stdout",
          "text": [
            "frame number 11\n"
          ]
        },
        {
          "output_type": "stream",
          "name": "stderr",
          "text": [
            "\n",
            "0: 640x384 (no detections), 154.9ms\n",
            "Speed: 3.4ms preprocess, 154.9ms inference, 0.8ms postprocess per image at shape (1, 3, 640, 384)\n",
            "\n"
          ]
        },
        {
          "output_type": "stream",
          "name": "stdout",
          "text": [
            "frame number 12\n",
            "frame number 13\n"
          ]
        },
        {
          "output_type": "stream",
          "name": "stderr",
          "text": [
            "0: 640x384 1 boat, 154.5ms\n",
            "Speed: 3.5ms preprocess, 154.5ms inference, 1.5ms postprocess per image at shape (1, 3, 640, 384)\n",
            "\n",
            "0: 640x384 (no detections), 155.6ms\n",
            "Speed: 4.5ms preprocess, 155.6ms inference, 0.8ms postprocess per image at shape (1, 3, 640, 384)\n"
          ]
        },
        {
          "output_type": "stream",
          "name": "stdout",
          "text": [
            "frame number 14\n"
          ]
        },
        {
          "output_type": "stream",
          "name": "stderr",
          "text": [
            "\n",
            "0: 640x384 (no detections), 172.6ms\n",
            "Speed: 3.0ms preprocess, 172.6ms inference, 1.0ms postprocess per image at shape (1, 3, 640, 384)\n"
          ]
        },
        {
          "output_type": "stream",
          "name": "stdout",
          "text": [
            "frame number 15\n"
          ]
        },
        {
          "output_type": "stream",
          "name": "stderr",
          "text": [
            "\n",
            "0: 640x384 (no detections), 167.3ms\n",
            "Speed: 3.5ms preprocess, 167.3ms inference, 1.1ms postprocess per image at shape (1, 3, 640, 384)\n"
          ]
        },
        {
          "output_type": "stream",
          "name": "stdout",
          "text": [
            "frame number 16\n"
          ]
        },
        {
          "output_type": "stream",
          "name": "stderr",
          "text": [
            "\n",
            "0: 640x384 (no detections), 165.7ms\n",
            "Speed: 3.8ms preprocess, 165.7ms inference, 0.9ms postprocess per image at shape (1, 3, 640, 384)\n"
          ]
        },
        {
          "output_type": "stream",
          "name": "stdout",
          "text": [
            "frame number 17\n"
          ]
        },
        {
          "output_type": "stream",
          "name": "stderr",
          "text": [
            "\n",
            "0: 640x384 (no detections), 156.7ms\n",
            "Speed: 5.1ms preprocess, 156.7ms inference, 0.9ms postprocess per image at shape (1, 3, 640, 384)\n"
          ]
        },
        {
          "output_type": "stream",
          "name": "stdout",
          "text": [
            "frame number 18\n"
          ]
        },
        {
          "output_type": "stream",
          "name": "stderr",
          "text": [
            "\n",
            "0: 640x384 (no detections), 166.4ms\n",
            "Speed: 4.0ms preprocess, 166.4ms inference, 1.0ms postprocess per image at shape (1, 3, 640, 384)\n"
          ]
        },
        {
          "output_type": "stream",
          "name": "stdout",
          "text": [
            "frame number 19\n"
          ]
        },
        {
          "output_type": "stream",
          "name": "stderr",
          "text": [
            "\n",
            "0: 640x384 (no detections), 185.6ms\n"
          ]
        },
        {
          "output_type": "stream",
          "name": "stdout",
          "text": [
            "frame number 20\n"
          ]
        },
        {
          "output_type": "stream",
          "name": "stderr",
          "text": [
            "Speed: 4.4ms preprocess, 185.6ms inference, 1.1ms postprocess per image at shape (1, 3, 640, 384)\n",
            "\n",
            "0: 640x384 (no detections), 171.6ms\n",
            "Speed: 4.1ms preprocess, 171.6ms inference, 0.9ms postprocess per image at shape (1, 3, 640, 384)\n"
          ]
        },
        {
          "output_type": "stream",
          "name": "stdout",
          "text": [
            "frame number 21\n"
          ]
        },
        {
          "output_type": "stream",
          "name": "stderr",
          "text": [
            "\n",
            "0: 640x384 (no detections), 176.3ms\n",
            "Speed: 4.0ms preprocess, 176.3ms inference, 1.4ms postprocess per image at shape (1, 3, 640, 384)\n"
          ]
        },
        {
          "output_type": "stream",
          "name": "stdout",
          "text": [
            "frame number 22\n"
          ]
        },
        {
          "output_type": "stream",
          "name": "stderr",
          "text": [
            "\n",
            "0: 640x384 (no detections), 158.3ms\n",
            "Speed: 7.2ms preprocess, 158.3ms inference, 1.0ms postprocess per image at shape (1, 3, 640, 384)\n"
          ]
        },
        {
          "output_type": "stream",
          "name": "stdout",
          "text": [
            "frame number 23\n"
          ]
        },
        {
          "output_type": "stream",
          "name": "stderr",
          "text": [
            "\n",
            "0: 640x384 (no detections), 160.4ms\n",
            "Speed: 3.5ms preprocess, 160.4ms inference, 0.9ms postprocess per image at shape (1, 3, 640, 384)\n"
          ]
        },
        {
          "output_type": "stream",
          "name": "stdout",
          "text": [
            "frame number 24\n"
          ]
        },
        {
          "output_type": "stream",
          "name": "stderr",
          "text": [
            "\n",
            "0: 640x384 (no detections), 175.3ms\n",
            "Speed: 3.4ms preprocess, 175.3ms inference, 1.0ms postprocess per image at shape (1, 3, 640, 384)\n"
          ]
        },
        {
          "output_type": "stream",
          "name": "stdout",
          "text": [
            "frame number 25\n"
          ]
        },
        {
          "output_type": "stream",
          "name": "stderr",
          "text": [
            "\n",
            "0: 640x384 (no detections), 159.1ms\n",
            "Speed: 5.7ms preprocess, 159.1ms inference, 1.3ms postprocess per image at shape (1, 3, 640, 384)\n"
          ]
        },
        {
          "output_type": "stream",
          "name": "stdout",
          "text": [
            "frame number 26\n"
          ]
        },
        {
          "output_type": "stream",
          "name": "stderr",
          "text": [
            "\n",
            "0: 640x384 1 person, 157.4ms\n",
            "Speed: 3.2ms preprocess, 157.4ms inference, 1.5ms postprocess per image at shape (1, 3, 640, 384)\n"
          ]
        },
        {
          "output_type": "stream",
          "name": "stdout",
          "text": [
            "frame number 27\n"
          ]
        },
        {
          "output_type": "stream",
          "name": "stderr",
          "text": [
            "\n",
            "0: 640x384 1 person, 158.5ms\n",
            "Speed: 3.7ms preprocess, 158.5ms inference, 1.6ms postprocess per image at shape (1, 3, 640, 384)\n"
          ]
        },
        {
          "output_type": "stream",
          "name": "stdout",
          "text": [
            "frame number 28\n"
          ]
        },
        {
          "output_type": "stream",
          "name": "stderr",
          "text": [
            "\n",
            "0: 640x384 1 person, 157.3ms\n",
            "Speed: 4.3ms preprocess, 157.3ms inference, 1.5ms postprocess per image at shape (1, 3, 640, 384)\n"
          ]
        },
        {
          "output_type": "stream",
          "name": "stdout",
          "text": [
            "frame number 29\n"
          ]
        },
        {
          "output_type": "stream",
          "name": "stderr",
          "text": [
            "\n"
          ]
        },
        {
          "output_type": "stream",
          "name": "stdout",
          "text": [
            "frame number 30\n"
          ]
        },
        {
          "output_type": "stream",
          "name": "stderr",
          "text": [
            "0: 640x384 (no detections), 246.9ms\n",
            "Speed: 5.4ms preprocess, 246.9ms inference, 1.5ms postprocess per image at shape (1, 3, 640, 384)\n",
            "\n"
          ]
        },
        {
          "output_type": "stream",
          "name": "stdout",
          "text": [
            "frame number 31\n"
          ]
        },
        {
          "output_type": "stream",
          "name": "stderr",
          "text": [
            "0: 640x384 (no detections), 253.2ms\n",
            "Speed: 3.5ms preprocess, 253.2ms inference, 1.2ms postprocess per image at shape (1, 3, 640, 384)\n",
            "\n"
          ]
        },
        {
          "output_type": "stream",
          "name": "stdout",
          "text": [
            "frame number 32\n"
          ]
        },
        {
          "output_type": "stream",
          "name": "stderr",
          "text": [
            "0: 640x384 1 airplane, 265.9ms\n",
            "Speed: 3.7ms preprocess, 265.9ms inference, 2.1ms postprocess per image at shape (1, 3, 640, 384)\n",
            "\n"
          ]
        },
        {
          "output_type": "stream",
          "name": "stdout",
          "text": [
            "frame number 33\n"
          ]
        },
        {
          "output_type": "stream",
          "name": "stderr",
          "text": [
            "0: 640x384 1 person, 290.3ms\n",
            "Speed: 3.5ms preprocess, 290.3ms inference, 2.2ms postprocess per image at shape (1, 3, 640, 384)\n",
            "\n"
          ]
        },
        {
          "output_type": "stream",
          "name": "stdout",
          "text": [
            "frame number 34\n"
          ]
        },
        {
          "output_type": "stream",
          "name": "stderr",
          "text": [
            "0: 640x384 (no detections), 260.3ms\n",
            "Speed: 4.1ms preprocess, 260.3ms inference, 1.2ms postprocess per image at shape (1, 3, 640, 384)\n",
            "\n"
          ]
        },
        {
          "output_type": "stream",
          "name": "stdout",
          "text": [
            "frame number 35\n"
          ]
        },
        {
          "output_type": "stream",
          "name": "stderr",
          "text": [
            "0: 640x384 (no detections), 262.4ms\n",
            "Speed: 3.6ms preprocess, 262.4ms inference, 1.4ms postprocess per image at shape (1, 3, 640, 384)\n",
            "\n"
          ]
        },
        {
          "output_type": "stream",
          "name": "stdout",
          "text": [
            "frame number 36\n"
          ]
        },
        {
          "output_type": "stream",
          "name": "stderr",
          "text": [
            "0: 640x384 (no detections), 272.6ms\n",
            "Speed: 4.1ms preprocess, 272.6ms inference, 1.2ms postprocess per image at shape (1, 3, 640, 384)\n",
            "\n"
          ]
        },
        {
          "output_type": "stream",
          "name": "stdout",
          "text": [
            "frame number 37\n"
          ]
        },
        {
          "output_type": "stream",
          "name": "stderr",
          "text": [
            "0: 640x384 (no detections), 266.0ms\n",
            "Speed: 6.7ms preprocess, 266.0ms inference, 1.2ms postprocess per image at shape (1, 3, 640, 384)\n",
            "\n"
          ]
        },
        {
          "output_type": "stream",
          "name": "stdout",
          "text": [
            "frame number 38\n"
          ]
        },
        {
          "output_type": "stream",
          "name": "stderr",
          "text": [
            "0: 640x384 (no detections), 263.2ms\n",
            "Speed: 3.9ms preprocess, 263.2ms inference, 1.3ms postprocess per image at shape (1, 3, 640, 384)\n",
            "\n"
          ]
        },
        {
          "output_type": "stream",
          "name": "stdout",
          "text": [
            "frame number 39\n"
          ]
        },
        {
          "output_type": "stream",
          "name": "stderr",
          "text": [
            "0: 640x384 (no detections), 269.2ms\n",
            "Speed: 3.6ms preprocess, 269.2ms inference, 1.5ms postprocess per image at shape (1, 3, 640, 384)\n",
            "\n"
          ]
        },
        {
          "output_type": "stream",
          "name": "stdout",
          "text": [
            "frame number 40\n"
          ]
        },
        {
          "output_type": "stream",
          "name": "stderr",
          "text": [
            "0: 640x384 (no detections), 242.1ms\n",
            "Speed: 3.6ms preprocess, 242.1ms inference, 1.2ms postprocess per image at shape (1, 3, 640, 384)\n",
            "\n"
          ]
        },
        {
          "output_type": "stream",
          "name": "stdout",
          "text": [
            "frame number 41\n"
          ]
        },
        {
          "output_type": "stream",
          "name": "stderr",
          "text": [
            "0: 640x384 (no detections), 257.1ms\n",
            "Speed: 3.6ms preprocess, 257.1ms inference, 1.4ms postprocess per image at shape (1, 3, 640, 384)\n",
            "\n"
          ]
        },
        {
          "output_type": "stream",
          "name": "stdout",
          "text": [
            "frame number 42\n"
          ]
        },
        {
          "output_type": "stream",
          "name": "stderr",
          "text": [
            "0: 640x384 (no detections), 254.0ms\n",
            "Speed: 3.8ms preprocess, 254.0ms inference, 1.4ms postprocess per image at shape (1, 3, 640, 384)\n",
            "\n",
            "0: 640x384 (no detections), 167.7ms\n",
            "Speed: 3.6ms preprocess, 167.7ms inference, 0.9ms postprocess per image at shape (1, 3, 640, 384)\n"
          ]
        },
        {
          "output_type": "stream",
          "name": "stdout",
          "text": [
            "frame number 43\n"
          ]
        },
        {
          "output_type": "stream",
          "name": "stderr",
          "text": [
            "\n",
            "0: 640x384 (no detections), 159.3ms\n",
            "Speed: 4.5ms preprocess, 159.3ms inference, 1.1ms postprocess per image at shape (1, 3, 640, 384)\n"
          ]
        },
        {
          "output_type": "stream",
          "name": "stdout",
          "text": [
            "frame number 44\n"
          ]
        },
        {
          "output_type": "stream",
          "name": "stderr",
          "text": [
            "\n",
            "0: 640x384 (no detections), 153.1ms\n",
            "Speed: 3.5ms preprocess, 153.1ms inference, 0.9ms postprocess per image at shape (1, 3, 640, 384)\n",
            "\n"
          ]
        },
        {
          "output_type": "stream",
          "name": "stdout",
          "text": [
            "frame number 45\n",
            "frame number 46\n"
          ]
        },
        {
          "output_type": "stream",
          "name": "stderr",
          "text": [
            "0: 640x384 (no detections), 160.0ms\n",
            "Speed: 4.4ms preprocess, 160.0ms inference, 1.2ms postprocess per image at shape (1, 3, 640, 384)\n",
            "\n",
            "0: 640x384 (no detections), 158.9ms\n",
            "Speed: 3.4ms preprocess, 158.9ms inference, 1.1ms postprocess per image at shape (1, 3, 640, 384)\n"
          ]
        },
        {
          "output_type": "stream",
          "name": "stdout",
          "text": [
            "frame number 47\n",
            "frame number"
          ]
        },
        {
          "output_type": "stream",
          "name": "stderr",
          "text": [
            "\n",
            "0: 640x384 1 person, 157.0ms\n",
            "Speed: 4.6ms preprocess, 157.0ms inference, 1.4ms postprocess per image at shape (1, 3, 640, 384)\n"
          ]
        },
        {
          "output_type": "stream",
          "name": "stdout",
          "text": [
            " 48\n"
          ]
        },
        {
          "output_type": "stream",
          "name": "stderr",
          "text": [
            "\n",
            "0: 640x384 2 persons, 149.2ms\n",
            "Speed: 3.0ms preprocess, 149.2ms inference, 1.4ms postprocess per image at shape (1, 3, 640, 384)\n",
            "\n"
          ]
        },
        {
          "output_type": "stream",
          "name": "stdout",
          "text": [
            "frame number 49\n",
            "frame number 50\n"
          ]
        },
        {
          "output_type": "stream",
          "name": "stderr",
          "text": [
            "0: 640x384 1 person, 151.6ms\n",
            "Speed: 3.1ms preprocess, 151.6ms inference, 1.5ms postprocess per image at shape (1, 3, 640, 384)\n",
            "\n",
            "0: 640x384 2 persons, 153.0ms\n",
            "Speed: 4.4ms preprocess, 153.0ms inference, 1.4ms postprocess per image at shape (1, 3, 640, 384)\n"
          ]
        },
        {
          "output_type": "stream",
          "name": "stdout",
          "text": [
            "frame number 51\n",
            "frame number 52\n"
          ]
        },
        {
          "output_type": "stream",
          "name": "stderr",
          "text": [
            "\n",
            "0: 640x384 2 persons, 161.2ms\n",
            "Speed: 3.0ms preprocess, 161.2ms inference, 2.0ms postprocess per image at shape (1, 3, 640, 384)\n",
            "\n",
            "0: 640x384 1 person, 173.4ms\n",
            "Speed: 5.7ms preprocess, 173.4ms inference, 1.5ms postprocess per image at shape (1, 3, 640, 384)\n"
          ]
        },
        {
          "output_type": "stream",
          "name": "stdout",
          "text": [
            "frame number 53\n"
          ]
        },
        {
          "output_type": "stream",
          "name": "stderr",
          "text": [
            "\n",
            "0: 640x384 1 person, 164.5ms\n",
            "Speed: 3.2ms preprocess, 164.5ms inference, 1.7ms postprocess per image at shape (1, 3, 640, 384)\n"
          ]
        },
        {
          "output_type": "stream",
          "name": "stdout",
          "text": [
            "frame number 54\n"
          ]
        },
        {
          "output_type": "stream",
          "name": "stderr",
          "text": [
            "\n",
            "0: 640x384 (no detections), 167.8ms\n",
            "Speed: 3.6ms preprocess, 167.8ms inference, 0.9ms postprocess per image at shape (1, 3, 640, 384)\n"
          ]
        },
        {
          "output_type": "stream",
          "name": "stdout",
          "text": [
            "frame number 55\n"
          ]
        },
        {
          "output_type": "stream",
          "name": "stderr",
          "text": [
            "\n",
            "0: 640x384 (no detections), 165.4ms\n",
            "Speed: 4.0ms preprocess, 165.4ms inference, 1.1ms postprocess per image at shape (1, 3, 640, 384)\n"
          ]
        },
        {
          "output_type": "stream",
          "name": "stdout",
          "text": [
            "frame number 56\n"
          ]
        },
        {
          "output_type": "stream",
          "name": "stderr",
          "text": [
            "\n",
            "0: 640x384 (no detections), 153.7ms\n",
            "Speed: 3.3ms preprocess, 153.7ms inference, 1.0ms postprocess per image at shape (1, 3, 640, 384)\n"
          ]
        },
        {
          "output_type": "stream",
          "name": "stdout",
          "text": [
            "frame number 57\n",
            "frame number 58\n"
          ]
        },
        {
          "output_type": "stream",
          "name": "stderr",
          "text": [
            "\n",
            "0: 640x384 (no detections), 178.6ms\n",
            "Speed: 3.9ms preprocess, 178.6ms inference, 1.0ms postprocess per image at shape (1, 3, 640, 384)\n",
            "\n",
            "0: 640x384 (no detections), 154.1ms\n",
            "Speed: 3.5ms preprocess, 154.1ms inference, 0.9ms postprocess per image at shape (1, 3, 640, 384)\n"
          ]
        },
        {
          "output_type": "stream",
          "name": "stdout",
          "text": [
            "frame number 59\n",
            "frame number 60\n"
          ]
        },
        {
          "output_type": "stream",
          "name": "stderr",
          "text": [
            "\n",
            "0: 640x384 (no detections), 160.4ms\n",
            "Speed: 4.0ms preprocess, 160.4ms inference, 0.9ms postprocess per image at shape (1, 3, 640, 384)\n",
            "\n",
            "0: 640x384 (no detections), 160.0ms\n",
            "Speed: 3.8ms preprocess, 160.0ms inference, 1.0ms postprocess per image at shape (1, 3, 640, 384)\n"
          ]
        },
        {
          "output_type": "stream",
          "name": "stdout",
          "text": [
            "frame number 61\n"
          ]
        },
        {
          "output_type": "stream",
          "name": "stderr",
          "text": [
            "\n",
            "0: 640x384 (no detections), 175.4ms\n"
          ]
        },
        {
          "output_type": "stream",
          "name": "stdout",
          "text": [
            "frame number 62\n"
          ]
        },
        {
          "output_type": "stream",
          "name": "stderr",
          "text": [
            "Speed: 3.4ms preprocess, 175.4ms inference, 1.0ms postprocess per image at shape (1, 3, 640, 384)\n",
            "\n",
            "0: 640x384 (no detections), 155.4ms\n",
            "Speed: 3.5ms preprocess, 155.4ms inference, 0.9ms postprocess per image at shape (1, 3, 640, 384)\n"
          ]
        },
        {
          "output_type": "stream",
          "name": "stdout",
          "text": [
            "frame number 63\n",
            "frame number 64\n"
          ]
        },
        {
          "output_type": "stream",
          "name": "stderr",
          "text": [
            "\n",
            "0: 640x384 (no detections), 172.4ms\n",
            "Speed: 3.5ms preprocess, 172.4ms inference, 0.9ms postprocess per image at shape (1, 3, 640, 384)\n",
            "\n",
            "0: 640x384 1 person, 163.3ms\n",
            "Speed: 3.5ms preprocess, 163.3ms inference, 1.6ms postprocess per image at shape (1, 3, 640, 384)\n"
          ]
        },
        {
          "output_type": "stream",
          "name": "stdout",
          "text": [
            "frame number 65\n"
          ]
        },
        {
          "output_type": "stream",
          "name": "stderr",
          "text": [
            "\n",
            "0: 640x384 (no detections), 174.3ms\n",
            "Speed: 3.4ms preprocess, 174.3ms inference, 0.9ms postprocess per image at shape (1, 3, 640, 384)\n"
          ]
        },
        {
          "output_type": "stream",
          "name": "stdout",
          "text": [
            "frame number 66\n"
          ]
        },
        {
          "output_type": "stream",
          "name": "stderr",
          "text": [
            "\n",
            "0: 640x384 (no detections), 176.1ms\n",
            "Speed: 3.4ms preprocess, 176.1ms inference, 1.0ms postprocess per image at shape (1, 3, 640, 384)\n"
          ]
        },
        {
          "output_type": "stream",
          "name": "stdout",
          "text": [
            "frame number 67\n"
          ]
        },
        {
          "output_type": "stream",
          "name": "stderr",
          "text": [
            "\n",
            "0: 640x384 (no detections), 177.2ms\n",
            "Speed: 3.5ms preprocess, 177.2ms inference, 0.9ms postprocess per image at shape (1, 3, 640, 384)\n"
          ]
        },
        {
          "output_type": "stream",
          "name": "stdout",
          "text": [
            "frame number 68\n"
          ]
        },
        {
          "output_type": "stream",
          "name": "stderr",
          "text": [
            "\n",
            "0: 640x384 (no detections), 164.3ms\n",
            "Speed: 5.3ms preprocess, 164.3ms inference, 0.9ms postprocess per image at shape (1, 3, 640, 384)\n"
          ]
        },
        {
          "output_type": "stream",
          "name": "stdout",
          "text": [
            "frame number 69\n"
          ]
        },
        {
          "output_type": "stream",
          "name": "stderr",
          "text": [
            "\n",
            "0: 640x384 (no detections), 182.2ms\n",
            "Speed: 3.5ms preprocess, 182.2ms inference, 1.0ms postprocess per image at shape (1, 3, 640, 384)\n"
          ]
        },
        {
          "output_type": "stream",
          "name": "stdout",
          "text": [
            "frame number 70\n"
          ]
        },
        {
          "output_type": "stream",
          "name": "stderr",
          "text": [
            "\n",
            "0: 640x384 (no detections), 157.1ms\n",
            "Speed: 8.0ms preprocess, 157.1ms inference, 1.1ms postprocess per image at shape (1, 3, 640, 384)\n"
          ]
        },
        {
          "output_type": "stream",
          "name": "stdout",
          "text": [
            "frame number 71\n"
          ]
        },
        {
          "output_type": "stream",
          "name": "stderr",
          "text": [
            "\n",
            "0: 640x384 (no detections), 168.5ms\n",
            "Speed: 4.9ms preprocess, 168.5ms inference, 0.8ms postprocess per image at shape (1, 3, 640, 384)\n"
          ]
        },
        {
          "output_type": "stream",
          "name": "stdout",
          "text": [
            "frame number 72\n"
          ]
        },
        {
          "output_type": "stream",
          "name": "stderr",
          "text": [
            "\n",
            "0: 640x384 (no detections), 145.9ms\n",
            "Speed: 2.9ms preprocess, 145.9ms inference, 0.7ms postprocess per image at shape (1, 3, 640, 384)\n",
            "\n"
          ]
        },
        {
          "output_type": "stream",
          "name": "stdout",
          "text": [
            "frame number 73\n",
            "frame number 74\n"
          ]
        },
        {
          "output_type": "stream",
          "name": "stderr",
          "text": [
            "0: 640x384 (no detections), 151.4ms\n",
            "Speed: 2.7ms preprocess, 151.4ms inference, 0.8ms postprocess per image at shape (1, 3, 640, 384)\n",
            "\n",
            "0: 640x384 (no detections), 153.8ms\n",
            "Speed: 4.4ms preprocess, 153.8ms inference, 0.9ms postprocess per image at shape (1, 3, 640, 384)\n"
          ]
        },
        {
          "output_type": "stream",
          "name": "stdout",
          "text": [
            "frame number 75\n"
          ]
        },
        {
          "output_type": "stream",
          "name": "stderr",
          "text": [
            "\n",
            "0: 640x384 (no detections), 146.0ms\n",
            "Speed: 2.9ms preprocess, 146.0ms inference, 0.8ms postprocess per image at shape (1, 3, 640, 384)\n",
            "\n"
          ]
        },
        {
          "output_type": "stream",
          "name": "stdout",
          "text": [
            "frame number 76\n",
            "frame number 77\n"
          ]
        },
        {
          "output_type": "stream",
          "name": "stderr",
          "text": [
            "0: 640x384 (no detections), 165.7ms\n",
            "Speed: 3.6ms preprocess, 165.7ms inference, 0.8ms postprocess per image at shape (1, 3, 640, 384)\n",
            "\n",
            "0: 640x384 (no detections), 149.3ms\n",
            "Speed: 3.0ms preprocess, 149.3ms inference, 0.8ms postprocess per image at shape (1, 3, 640, 384)\n",
            "\n"
          ]
        },
        {
          "output_type": "stream",
          "name": "stdout",
          "text": [
            "frame number 78\n",
            "frame number 79\n"
          ]
        },
        {
          "output_type": "stream",
          "name": "stderr",
          "text": [
            "0: 640x384 (no detections), 152.2ms\n",
            "Speed: 4.2ms preprocess, 152.2ms inference, 0.8ms postprocess per image at shape (1, 3, 640, 384)\n",
            "\n",
            "0: 640x384 (no detections), 148.3ms\n",
            "Speed: 3.4ms preprocess, 148.3ms inference, 0.9ms postprocess per image at shape (1, 3, 640, 384)\n",
            "\n"
          ]
        },
        {
          "output_type": "stream",
          "name": "stdout",
          "text": [
            "frame number 80\n",
            "frame number 81\n"
          ]
        },
        {
          "output_type": "stream",
          "name": "stderr",
          "text": [
            "0: 640x384 (no detections), 150.4ms\n",
            "Speed: 2.9ms preprocess, 150.4ms inference, 0.8ms postprocess per image at shape (1, 3, 640, 384)\n",
            "\n",
            "0: 640x384 (no detections), 149.0ms\n",
            "Speed: 3.0ms preprocess, 149.0ms inference, 0.8ms postprocess per image at shape (1, 3, 640, 384)\n",
            "\n"
          ]
        },
        {
          "output_type": "stream",
          "name": "stdout",
          "text": [
            "frame number 82\n",
            "frame number 83\n"
          ]
        },
        {
          "output_type": "stream",
          "name": "stderr",
          "text": [
            "0: 640x384 (no detections), 155.7ms\n",
            "Speed: 3.3ms preprocess, 155.7ms inference, 0.8ms postprocess per image at shape (1, 3, 640, 384)\n",
            "\n",
            "0: 640x384 (no detections), 157.4ms\n",
            "Speed: 2.8ms preprocess, 157.4ms inference, 0.8ms postprocess per image at shape (1, 3, 640, 384)\n"
          ]
        },
        {
          "output_type": "stream",
          "name": "stdout",
          "text": [
            "frame number 84\n",
            "frame number 85\n"
          ]
        },
        {
          "output_type": "stream",
          "name": "stderr",
          "text": [
            "\n",
            "0: 640x384 1 surfboard, 154.5ms\n",
            "Speed: 3.0ms preprocess, 154.5ms inference, 1.7ms postprocess per image at shape (1, 3, 640, 384)\n",
            "\n",
            "0: 640x384 (no detections), 155.8ms\n",
            "Speed: 4.6ms preprocess, 155.8ms inference, 0.8ms postprocess per image at shape (1, 3, 640, 384)\n"
          ]
        },
        {
          "output_type": "stream",
          "name": "stdout",
          "text": [
            "frame number 86\n",
            "frame number 87\n"
          ]
        },
        {
          "output_type": "stream",
          "name": "stderr",
          "text": [
            "\n",
            "0: 640x384 (no detections), 158.5ms\n",
            "Speed: 3.7ms preprocess, 158.5ms inference, 1.0ms postprocess per image at shape (1, 3, 640, 384)\n",
            "\n",
            "0: 640x384 (no detections), 168.2ms\n",
            "Speed: 4.0ms preprocess, 168.2ms inference, 0.9ms postprocess per image at shape (1, 3, 640, 384)\n"
          ]
        },
        {
          "output_type": "stream",
          "name": "stdout",
          "text": [
            "frame number 88\n"
          ]
        },
        {
          "output_type": "stream",
          "name": "stderr",
          "text": [
            "\n",
            "0: 640x384 1 person, 156.7ms\n",
            "Speed: 4.0ms preprocess, 156.7ms inference, 1.6ms postprocess per image at shape (1, 3, 640, 384)\n"
          ]
        },
        {
          "output_type": "stream",
          "name": "stdout",
          "text": [
            "frame number 89\n"
          ]
        },
        {
          "output_type": "stream",
          "name": "stderr",
          "text": [
            "\n",
            "0: 640x384 (no detections), 159.4ms\n",
            "Speed: 4.9ms preprocess, 159.4ms inference, 0.9ms postprocess per image at shape (1, 3, 640, 384)\n"
          ]
        },
        {
          "output_type": "stream",
          "name": "stdout",
          "text": [
            "frame number 90\n"
          ]
        },
        {
          "output_type": "stream",
          "name": "stderr",
          "text": [
            "\n"
          ]
        },
        {
          "output_type": "stream",
          "name": "stdout",
          "text": [
            "frame number 91\n"
          ]
        },
        {
          "output_type": "stream",
          "name": "stderr",
          "text": [
            "0: 640x384 1 person, 210.2ms\n",
            "Speed: 4.0ms preprocess, 210.2ms inference, 2.1ms postprocess per image at shape (1, 3, 640, 384)\n",
            "\n"
          ]
        },
        {
          "output_type": "stream",
          "name": "stdout",
          "text": [
            "frame number 92\n"
          ]
        },
        {
          "output_type": "stream",
          "name": "stderr",
          "text": [
            "0: 640x384 (no detections), 251.2ms\n",
            "Speed: 3.2ms preprocess, 251.2ms inference, 1.2ms postprocess per image at shape (1, 3, 640, 384)\n",
            "\n"
          ]
        },
        {
          "output_type": "stream",
          "name": "stdout",
          "text": [
            "frame number 93\n"
          ]
        },
        {
          "output_type": "stream",
          "name": "stderr",
          "text": [
            "0: 640x384 1 person, 251.7ms\n",
            "Speed: 3.4ms preprocess, 251.7ms inference, 1.9ms postprocess per image at shape (1, 3, 640, 384)\n",
            "\n"
          ]
        },
        {
          "output_type": "stream",
          "name": "stdout",
          "text": [
            "frame number 94\n"
          ]
        },
        {
          "output_type": "stream",
          "name": "stderr",
          "text": [
            "0: 640x384 1 person, 257.8ms\n",
            "Speed: 3.5ms preprocess, 257.8ms inference, 1.9ms postprocess per image at shape (1, 3, 640, 384)\n",
            "\n"
          ]
        },
        {
          "output_type": "stream",
          "name": "stdout",
          "text": [
            "frame number 95\n"
          ]
        },
        {
          "output_type": "stream",
          "name": "stderr",
          "text": [
            "0: 640x384 1 person, 267.0ms\n",
            "Speed: 4.0ms preprocess, 267.0ms inference, 1.9ms postprocess per image at shape (1, 3, 640, 384)\n",
            "\n"
          ]
        },
        {
          "output_type": "stream",
          "name": "stdout",
          "text": [
            "frame number 96\n"
          ]
        },
        {
          "output_type": "stream",
          "name": "stderr",
          "text": [
            "0: 640x384 1 person, 265.7ms\n",
            "Speed: 3.4ms preprocess, 265.7ms inference, 5.5ms postprocess per image at shape (1, 3, 640, 384)\n",
            "\n"
          ]
        },
        {
          "output_type": "stream",
          "name": "stdout",
          "text": [
            "frame number 97\n"
          ]
        },
        {
          "output_type": "stream",
          "name": "stderr",
          "text": [
            "0: 640x384 1 person, 248.8ms\n",
            "Speed: 3.6ms preprocess, 248.8ms inference, 1.9ms postprocess per image at shape (1, 3, 640, 384)\n",
            "\n"
          ]
        },
        {
          "output_type": "stream",
          "name": "stdout",
          "text": [
            "frame number 98\n"
          ]
        },
        {
          "output_type": "stream",
          "name": "stderr",
          "text": [
            "0: 640x384 1 person, 254.0ms\n",
            "Speed: 3.5ms preprocess, 254.0ms inference, 1.9ms postprocess per image at shape (1, 3, 640, 384)\n",
            "\n"
          ]
        },
        {
          "output_type": "stream",
          "name": "stdout",
          "text": [
            "frame number 99\n"
          ]
        },
        {
          "output_type": "stream",
          "name": "stderr",
          "text": [
            "0: 640x384 1 person, 249.3ms\n",
            "Speed: 4.0ms preprocess, 249.3ms inference, 2.1ms postprocess per image at shape (1, 3, 640, 384)\n",
            "\n"
          ]
        },
        {
          "output_type": "stream",
          "name": "stdout",
          "text": [
            "frame number 100\n"
          ]
        },
        {
          "output_type": "stream",
          "name": "stderr",
          "text": [
            "0: 640x384 1 person, 254.2ms\n",
            "Speed: 3.4ms preprocess, 254.2ms inference, 2.2ms postprocess per image at shape (1, 3, 640, 384)\n",
            "\n"
          ]
        },
        {
          "output_type": "stream",
          "name": "stdout",
          "text": [
            "frame number 101\n"
          ]
        },
        {
          "output_type": "stream",
          "name": "stderr",
          "text": [
            "0: 640x384 1 person, 251.7ms\n",
            "Speed: 3.5ms preprocess, 251.7ms inference, 2.1ms postprocess per image at shape (1, 3, 640, 384)\n",
            "\n"
          ]
        },
        {
          "output_type": "stream",
          "name": "stdout",
          "text": [
            "frame number 102\n"
          ]
        },
        {
          "output_type": "stream",
          "name": "stderr",
          "text": [
            "0: 640x384 1 person, 243.8ms\n",
            "Speed: 3.2ms preprocess, 243.8ms inference, 2.1ms postprocess per image at shape (1, 3, 640, 384)\n",
            "\n"
          ]
        },
        {
          "output_type": "stream",
          "name": "stdout",
          "text": [
            "frame number 103\n"
          ]
        },
        {
          "output_type": "stream",
          "name": "stderr",
          "text": [
            "0: 640x384 1 person, 239.0ms\n",
            "Speed: 3.0ms preprocess, 239.0ms inference, 2.0ms postprocess per image at shape (1, 3, 640, 384)\n",
            "\n"
          ]
        },
        {
          "output_type": "stream",
          "name": "stdout",
          "text": [
            "frame number 104\n"
          ]
        },
        {
          "output_type": "stream",
          "name": "stderr",
          "text": [
            "0: 640x384 1 person, 222.8ms\n",
            "Speed: 3.1ms preprocess, 222.8ms inference, 1.5ms postprocess per image at shape (1, 3, 640, 384)\n",
            "\n",
            "0: 640x384 (no detections), 157.1ms\n",
            "Speed: 3.6ms preprocess, 157.1ms inference, 0.9ms postprocess per image at shape (1, 3, 640, 384)\n"
          ]
        },
        {
          "output_type": "stream",
          "name": "stdout",
          "text": [
            "frame number 105\n"
          ]
        },
        {
          "output_type": "stream",
          "name": "stderr",
          "text": [
            "\n",
            "0: 640x384 (no detections), 171.9ms\n",
            "Speed: 3.6ms preprocess, 171.9ms inference, 1.2ms postprocess per image at shape (1, 3, 640, 384)\n"
          ]
        },
        {
          "output_type": "stream",
          "name": "stdout",
          "text": [
            "frame number 106\n"
          ]
        },
        {
          "output_type": "stream",
          "name": "stderr",
          "text": [
            "\n",
            "0: 640x384 1 person, 160.1ms\n",
            "Speed: 3.6ms preprocess, 160.1ms inference, 1.6ms postprocess per image at shape (1, 3, 640, 384)\n"
          ]
        },
        {
          "output_type": "stream",
          "name": "stdout",
          "text": [
            "frame number 107\n"
          ]
        },
        {
          "output_type": "stream",
          "name": "stderr",
          "text": [
            "\n",
            "0: 640x384 1 person, 154.4ms\n",
            "Speed: 4.7ms preprocess, 154.4ms inference, 1.5ms postprocess per image at shape (1, 3, 640, 384)\n"
          ]
        },
        {
          "output_type": "stream",
          "name": "stdout",
          "text": [
            "frame number 108\n"
          ]
        },
        {
          "output_type": "stream",
          "name": "stderr",
          "text": [
            "\n",
            "0: 640x384 (no detections), 162.4ms\n",
            "Speed: 4.2ms preprocess, 162.4ms inference, 1.3ms postprocess per image at shape (1, 3, 640, 384)\n"
          ]
        },
        {
          "output_type": "stream",
          "name": "stdout",
          "text": [
            "frame number 109\n"
          ]
        },
        {
          "output_type": "stream",
          "name": "stderr",
          "text": [
            "\n",
            "0: 640x384 1 person, 163.6ms\n",
            "Speed: 3.7ms preprocess, 163.6ms inference, 1.4ms postprocess per image at shape (1, 3, 640, 384)\n"
          ]
        },
        {
          "output_type": "stream",
          "name": "stdout",
          "text": [
            "frame number 110\n"
          ]
        },
        {
          "output_type": "stream",
          "name": "stderr",
          "text": [
            "\n",
            "0: 640x384 1 person, 165.5ms\n",
            "Speed: 3.4ms preprocess, 165.5ms inference, 1.3ms postprocess per image at shape (1, 3, 640, 384)\n"
          ]
        },
        {
          "output_type": "stream",
          "name": "stdout",
          "text": [
            "frame number 111\n"
          ]
        },
        {
          "output_type": "stream",
          "name": "stderr",
          "text": [
            "\n",
            "0: 640x384 (no detections), 163.7ms\n",
            "Speed: 3.7ms preprocess, 163.7ms inference, 1.1ms postprocess per image at shape (1, 3, 640, 384)\n"
          ]
        },
        {
          "output_type": "stream",
          "name": "stdout",
          "text": [
            "frame number 112\n"
          ]
        },
        {
          "output_type": "stream",
          "name": "stderr",
          "text": [
            "\n",
            "0: 640x384 (no detections), 165.8ms\n",
            "Speed: 4.6ms preprocess, 165.8ms inference, 0.8ms postprocess per image at shape (1, 3, 640, 384)\n"
          ]
        },
        {
          "output_type": "stream",
          "name": "stdout",
          "text": [
            "frame number 113\n"
          ]
        },
        {
          "output_type": "stream",
          "name": "stderr",
          "text": [
            "\n",
            "0: 640x384 (no detections), 154.2ms\n",
            "Speed: 2.9ms preprocess, 154.2ms inference, 0.9ms postprocess per image at shape (1, 3, 640, 384)\n",
            "\n"
          ]
        },
        {
          "output_type": "stream",
          "name": "stdout",
          "text": [
            "frame number 114\n",
            "frame number 115\n"
          ]
        },
        {
          "output_type": "stream",
          "name": "stderr",
          "text": [
            "0: 640x384 (no detections), 152.3ms\n",
            "Speed: 4.2ms preprocess, 152.3ms inference, 0.8ms postprocess per image at shape (1, 3, 640, 384)\n",
            "\n",
            "0: 640x384 (no detections), 164.7ms\n",
            "Speed: 3.3ms preprocess, 164.7ms inference, 0.8ms postprocess per image at shape (1, 3, 640, 384)\n"
          ]
        },
        {
          "output_type": "stream",
          "name": "stdout",
          "text": [
            "frame number 116\n"
          ]
        },
        {
          "output_type": "stream",
          "name": "stderr",
          "text": [
            "\n",
            "0: 640x384 (no detections), 169.3ms\n",
            "Speed: 3.2ms preprocess, 169.3ms inference, 0.8ms postprocess per image at shape (1, 3, 640, 384)\n"
          ]
        },
        {
          "output_type": "stream",
          "name": "stdout",
          "text": [
            "frame number 117\n"
          ]
        },
        {
          "output_type": "stream",
          "name": "stderr",
          "text": [
            "\n",
            "0: 640x384 1 surfboard, 153.1ms\n",
            "Speed: 3.6ms preprocess, 153.1ms inference, 1.4ms postprocess per image at shape (1, 3, 640, 384)\n",
            "\n"
          ]
        },
        {
          "output_type": "stream",
          "name": "stdout",
          "text": [
            "frame number 118\n",
            "frame number 119\n"
          ]
        },
        {
          "output_type": "stream",
          "name": "stderr",
          "text": [
            "0: 640x384 (no detections), 157.5ms\n",
            "Speed: 3.3ms preprocess, 157.5ms inference, 0.9ms postprocess per image at shape (1, 3, 640, 384)\n",
            "\n",
            "0: 640x384 1 person, 156.0ms\n",
            "Speed: 3.8ms preprocess, 156.0ms inference, 1.8ms postprocess per image at shape (1, 3, 640, 384)\n"
          ]
        },
        {
          "output_type": "stream",
          "name": "stdout",
          "text": [
            "frame number 120\n"
          ]
        },
        {
          "output_type": "stream",
          "name": "stderr",
          "text": [
            "\n",
            "0: 640x384 (no detections), 164.2ms\n",
            "Speed: 3.3ms preprocess, 164.2ms inference, 0.9ms postprocess per image at shape (1, 3, 640, 384)\n"
          ]
        },
        {
          "output_type": "stream",
          "name": "stdout",
          "text": [
            "frame number 121\n"
          ]
        },
        {
          "output_type": "stream",
          "name": "stderr",
          "text": [
            "\n",
            "0: 640x384 (no detections), 155.8ms\n",
            "Speed: 4.5ms preprocess, 155.8ms inference, 0.9ms postprocess per image at shape (1, 3, 640, 384)\n"
          ]
        },
        {
          "output_type": "stream",
          "name": "stdout",
          "text": [
            "frame number 122\n",
            "frame number 123\n"
          ]
        },
        {
          "output_type": "stream",
          "name": "stderr",
          "text": [
            "\n",
            "0: 640x384 (no detections), 169.3ms\n",
            "Speed: 5.3ms preprocess, 169.3ms inference, 1.0ms postprocess per image at shape (1, 3, 640, 384)\n",
            "\n",
            "0: 640x384 (no detections), 166.1ms\n",
            "Speed: 4.1ms preprocess, 166.1ms inference, 1.1ms postprocess per image at shape (1, 3, 640, 384)\n"
          ]
        },
        {
          "output_type": "stream",
          "name": "stdout",
          "text": [
            "frame number 124\n"
          ]
        },
        {
          "output_type": "stream",
          "name": "stderr",
          "text": [
            "\n",
            "0: 640x384 1 person, 1 surfboard, 156.4ms\n",
            "Speed: 4.2ms preprocess, 156.4ms inference, 1.9ms postprocess per image at shape (1, 3, 640, 384)\n"
          ]
        },
        {
          "output_type": "stream",
          "name": "stdout",
          "text": [
            "frame number 125\n",
            "frame number 126\n"
          ]
        },
        {
          "output_type": "stream",
          "name": "stderr",
          "text": [
            "\n",
            "0: 640x384 1 person, 1 surfboard, 170.2ms\n",
            "Speed: 5.4ms preprocess, 170.2ms inference, 1.5ms postprocess per image at shape (1, 3, 640, 384)\n",
            "\n",
            "0: 640x384 1 person, 165.3ms\n",
            "Speed: 3.5ms preprocess, 165.3ms inference, 1.5ms postprocess per image at shape (1, 3, 640, 384)\n"
          ]
        },
        {
          "output_type": "stream",
          "name": "stdout",
          "text": [
            "frame number 127\n"
          ]
        },
        {
          "output_type": "stream",
          "name": "stderr",
          "text": [
            "\n",
            "0: 640x384 1 person, 155.2ms\n",
            "Speed: 3.6ms preprocess, 155.2ms inference, 1.6ms postprocess per image at shape (1, 3, 640, 384)\n"
          ]
        },
        {
          "output_type": "stream",
          "name": "stdout",
          "text": [
            "frame number 128\n"
          ]
        },
        {
          "output_type": "stream",
          "name": "stderr",
          "text": [
            "\n",
            "0: 640x384 (no detections), 158.5ms\n",
            "Speed: 7.5ms preprocess, 158.5ms inference, 1.1ms postprocess per image at shape (1, 3, 640, 384)\n"
          ]
        },
        {
          "output_type": "stream",
          "name": "stdout",
          "text": [
            "frame number 129\n"
          ]
        },
        {
          "output_type": "stream",
          "name": "stderr",
          "text": [
            "\n",
            "0: 640x384 (no detections), 149.1ms\n",
            "Speed: 3.5ms preprocess, 149.1ms inference, 0.9ms postprocess per image at shape (1, 3, 640, 384)\n"
          ]
        },
        {
          "output_type": "stream",
          "name": "stdout",
          "text": [
            "frame number 130\n",
            "frame number 131\n"
          ]
        },
        {
          "output_type": "stream",
          "name": "stderr",
          "text": [
            "\n",
            "0: 640x384 1 person, 168.9ms\n",
            "Speed: 7.5ms preprocess, 168.9ms inference, 1.4ms postprocess per image at shape (1, 3, 640, 384)\n",
            "\n",
            "0: 640x384 1 person, 1 surfboard, 156.1ms\n",
            "Speed: 5.7ms preprocess, 156.1ms inference, 1.8ms postprocess per image at shape (1, 3, 640, 384)\n"
          ]
        },
        {
          "output_type": "stream",
          "name": "stdout",
          "text": [
            "frame number 132\n"
          ]
        },
        {
          "output_type": "stream",
          "name": "stderr",
          "text": [
            "\n",
            "0: 640x384 1 person, 1 surfboard, 160.3ms\n",
            "Speed: 4.2ms preprocess, 160.3ms inference, 1.7ms postprocess per image at shape (1, 3, 640, 384)\n"
          ]
        },
        {
          "output_type": "stream",
          "name": "stdout",
          "text": [
            "frame number 133\n"
          ]
        },
        {
          "output_type": "stream",
          "name": "stderr",
          "text": [
            "\n",
            "0: 640x384 1 person, 1 surfboard, 155.0ms\n",
            "Speed: 4.2ms preprocess, 155.0ms inference, 1.5ms postprocess per image at shape (1, 3, 640, 384)\n"
          ]
        },
        {
          "output_type": "stream",
          "name": "stdout",
          "text": [
            "frame number 134\n"
          ]
        },
        {
          "output_type": "stream",
          "name": "stderr",
          "text": [
            "\n",
            "0: 640x384 3 persons, 2 surfboards, 150.8ms\n",
            "Speed: 3.0ms preprocess, 150.8ms inference, 1.3ms postprocess per image at shape (1, 3, 640, 384)\n",
            "\n"
          ]
        },
        {
          "output_type": "stream",
          "name": "stdout",
          "text": [
            "frame number 135\n",
            "frame number 136\n"
          ]
        },
        {
          "output_type": "stream",
          "name": "stderr",
          "text": [
            "0: 640x384 2 persons, 1 surfboard, 166.0ms\n",
            "Speed: 5.6ms preprocess, 166.0ms inference, 1.4ms postprocess per image at shape (1, 3, 640, 384)\n",
            "\n",
            "0: 640x384 2 persons, 1 surfboard, 159.4ms\n",
            "Speed: 3.4ms preprocess, 159.4ms inference, 1.8ms postprocess per image at shape (1, 3, 640, 384)\n"
          ]
        },
        {
          "output_type": "stream",
          "name": "stdout",
          "text": [
            "frame number 137\n"
          ]
        },
        {
          "output_type": "stream",
          "name": "stderr",
          "text": [
            "\n",
            "0: 640x384 1 person, 153.3ms\n",
            "Speed: 3.3ms preprocess, 153.3ms inference, 1.3ms postprocess per image at shape (1, 3, 640, 384)\n",
            "\n"
          ]
        },
        {
          "output_type": "stream",
          "name": "stdout",
          "text": [
            "frame number 138\n",
            "frame number 139\n"
          ]
        },
        {
          "output_type": "stream",
          "name": "stderr",
          "text": [
            "0: 640x384 1 person, 157.9ms\n",
            "Speed: 3.3ms preprocess, 157.9ms inference, 1.4ms postprocess per image at shape (1, 3, 640, 384)\n",
            "\n",
            "0: 640x384 1 person, 1 surfboard, 159.2ms\n",
            "Speed: 2.5ms preprocess, 159.2ms inference, 1.7ms postprocess per image at shape (1, 3, 640, 384)\n"
          ]
        },
        {
          "output_type": "stream",
          "name": "stdout",
          "text": [
            "frame number 140\n"
          ]
        },
        {
          "output_type": "stream",
          "name": "stderr",
          "text": [
            "\n",
            "0: 640x384 2 persons, 1 surfboard, 161.0ms\n",
            "Speed: 3.8ms preprocess, 161.0ms inference, 1.5ms postprocess per image at shape (1, 3, 640, 384)\n"
          ]
        },
        {
          "output_type": "stream",
          "name": "stdout",
          "text": [
            "frame number 141\n"
          ]
        },
        {
          "output_type": "stream",
          "name": "stderr",
          "text": [
            "\n",
            "0: 640x384 1 person, 1 surfboard, 158.3ms\n",
            "Speed: 10.5ms preprocess, 158.3ms inference, 1.4ms postprocess per image at shape (1, 3, 640, 384)\n"
          ]
        },
        {
          "output_type": "stream",
          "name": "stdout",
          "text": [
            "frame number 142\n"
          ]
        },
        {
          "output_type": "stream",
          "name": "stderr",
          "text": [
            "\n",
            "0: 640x384 2 persons, 154.2ms\n",
            "Speed: 3.7ms preprocess, 154.2ms inference, 1.4ms postprocess per image at shape (1, 3, 640, 384)\n"
          ]
        },
        {
          "output_type": "stream",
          "name": "stdout",
          "text": [
            "frame number 143\n",
            "frame number 144\n"
          ]
        },
        {
          "output_type": "stream",
          "name": "stderr",
          "text": [
            "\n",
            "0: 640x384 1 person, 1 surfboard, 167.5ms\n",
            "Speed: 3.5ms preprocess, 167.5ms inference, 1.3ms postprocess per image at shape (1, 3, 640, 384)\n",
            "\n",
            "0: 640x384 3 persons, 2 surfboards, 150.0ms\n",
            "Speed: 3.0ms preprocess, 150.0ms inference, 1.4ms postprocess per image at shape (1, 3, 640, 384)\n",
            "\n"
          ]
        },
        {
          "output_type": "stream",
          "name": "stdout",
          "text": [
            "frame number 145\n",
            "frame number 146\n"
          ]
        },
        {
          "output_type": "stream",
          "name": "stderr",
          "text": [
            "0: 640x384 1 person, 166.8ms\n",
            "Speed: 5.8ms preprocess, 166.8ms inference, 1.4ms postprocess per image at shape (1, 3, 640, 384)\n",
            "\n",
            "0: 640x384 1 person, 1 surfboard, 159.9ms\n",
            "Speed: 3.3ms preprocess, 159.9ms inference, 1.4ms postprocess per image at shape (1, 3, 640, 384)\n"
          ]
        },
        {
          "output_type": "stream",
          "name": "stdout",
          "text": [
            "frame number 147\n",
            "frame number 148\n"
          ]
        },
        {
          "output_type": "stream",
          "name": "stderr",
          "text": [
            "\n",
            "0: 640x384 1 person, 160.9ms\n",
            "Speed: 2.9ms preprocess, 160.9ms inference, 1.8ms postprocess per image at shape (1, 3, 640, 384)\n",
            "\n",
            "0: 640x384 2 persons, 159.5ms\n",
            "Speed: 4.2ms preprocess, 159.5ms inference, 1.4ms postprocess per image at shape (1, 3, 640, 384)\n"
          ]
        },
        {
          "output_type": "stream",
          "name": "stdout",
          "text": [
            "frame number 149\n",
            "frame number 150\n"
          ]
        },
        {
          "output_type": "stream",
          "name": "stderr",
          "text": [
            "\n",
            "0: 640x384 1 person, 158.4ms\n",
            "Speed: 3.0ms preprocess, 158.4ms inference, 1.4ms postprocess per image at shape (1, 3, 640, 384)\n",
            "\n",
            "0: 640x384 1 person, 167.2ms\n",
            "Speed: 3.1ms preprocess, 167.2ms inference, 1.5ms postprocess per image at shape (1, 3, 640, 384)\n"
          ]
        },
        {
          "output_type": "stream",
          "name": "stdout",
          "text": [
            "frame number 151\n"
          ]
        },
        {
          "output_type": "stream",
          "name": "stderr",
          "text": [
            "\n",
            "0: 640x384 1 person, 150.6ms\n",
            "Speed: 3.0ms preprocess, 150.6ms inference, 1.3ms postprocess per image at shape (1, 3, 640, 384)\n",
            "\n"
          ]
        },
        {
          "output_type": "stream",
          "name": "stdout",
          "text": [
            "frame number 152\n",
            "frame number 153\n"
          ]
        },
        {
          "output_type": "stream",
          "name": "stderr",
          "text": [
            "0: 640x384 1 person, 1 surfboard, 210.1ms\n",
            "Speed: 5.1ms preprocess, 210.1ms inference, 2.6ms postprocess per image at shape (1, 3, 640, 384)\n",
            "\n"
          ]
        },
        {
          "output_type": "stream",
          "name": "stdout",
          "text": [
            "frame number 154\n"
          ]
        },
        {
          "output_type": "stream",
          "name": "stderr",
          "text": [
            "0: 640x384 2 persons, 2 surfboards, 257.6ms\n",
            "Speed: 2.9ms preprocess, 257.6ms inference, 1.9ms postprocess per image at shape (1, 3, 640, 384)\n",
            "\n"
          ]
        },
        {
          "output_type": "stream",
          "name": "stdout",
          "text": [
            "frame number 155\n"
          ]
        },
        {
          "output_type": "stream",
          "name": "stderr",
          "text": [
            "0: 640x384 2 persons, 2 surfboards, 264.6ms\n",
            "Speed: 2.9ms preprocess, 264.6ms inference, 1.8ms postprocess per image at shape (1, 3, 640, 384)\n",
            "\n"
          ]
        },
        {
          "output_type": "stream",
          "name": "stdout",
          "text": [
            "frame number 156\n"
          ]
        },
        {
          "output_type": "stream",
          "name": "stderr",
          "text": [
            "0: 640x384 1 person, 1 surfboard, 251.0ms\n",
            "Speed: 3.2ms preprocess, 251.0ms inference, 1.8ms postprocess per image at shape (1, 3, 640, 384)\n",
            "\n"
          ]
        },
        {
          "output_type": "stream",
          "name": "stdout",
          "text": [
            "frame number 157\n"
          ]
        },
        {
          "output_type": "stream",
          "name": "stderr",
          "text": [
            "0: 640x384 1 person, 1 surfboard, 259.4ms\n",
            "Speed: 2.9ms preprocess, 259.4ms inference, 1.9ms postprocess per image at shape (1, 3, 640, 384)\n",
            "\n"
          ]
        },
        {
          "output_type": "stream",
          "name": "stdout",
          "text": [
            "frame number 158\n"
          ]
        },
        {
          "output_type": "stream",
          "name": "stderr",
          "text": [
            "0: 640x384 1 person, 1 surfboard, 256.4ms\n",
            "Speed: 3.1ms preprocess, 256.4ms inference, 1.9ms postprocess per image at shape (1, 3, 640, 384)\n",
            "\n"
          ]
        },
        {
          "output_type": "stream",
          "name": "stdout",
          "text": [
            "frame number 159\n"
          ]
        },
        {
          "output_type": "stream",
          "name": "stderr",
          "text": [
            "0: 640x384 1 person, 1 surfboard, 252.6ms\n",
            "Speed: 5.8ms preprocess, 252.6ms inference, 1.7ms postprocess per image at shape (1, 3, 640, 384)\n",
            "\n"
          ]
        },
        {
          "output_type": "stream",
          "name": "stdout",
          "text": [
            "frame number 160\n"
          ]
        },
        {
          "output_type": "stream",
          "name": "stderr",
          "text": [
            "0: 640x384 2 persons, 1 surfboard, 264.2ms\n",
            "Speed: 2.9ms preprocess, 264.2ms inference, 2.0ms postprocess per image at shape (1, 3, 640, 384)\n",
            "\n"
          ]
        },
        {
          "output_type": "stream",
          "name": "stdout",
          "text": [
            "frame number 161\n"
          ]
        },
        {
          "output_type": "stream",
          "name": "stderr",
          "text": [
            "0: 640x384 3 persons, 1 surfboard, 264.9ms\n",
            "Speed: 7.0ms preprocess, 264.9ms inference, 1.9ms postprocess per image at shape (1, 3, 640, 384)\n",
            "\n"
          ]
        },
        {
          "output_type": "stream",
          "name": "stdout",
          "text": [
            "frame number 162\n"
          ]
        },
        {
          "output_type": "stream",
          "name": "stderr",
          "text": [
            "0: 640x384 2 persons, 1 surfboard, 260.0ms\n",
            "Speed: 6.8ms preprocess, 260.0ms inference, 2.0ms postprocess per image at shape (1, 3, 640, 384)\n",
            "\n"
          ]
        },
        {
          "output_type": "stream",
          "name": "stdout",
          "text": [
            "frame number 163\n"
          ]
        },
        {
          "output_type": "stream",
          "name": "stderr",
          "text": [
            "0: 640x384 1 person, 1 surfboard, 240.5ms\n",
            "Speed: 3.3ms preprocess, 240.5ms inference, 2.2ms postprocess per image at shape (1, 3, 640, 384)\n",
            "\n"
          ]
        },
        {
          "output_type": "stream",
          "name": "stdout",
          "text": [
            "frame number 164\n"
          ]
        },
        {
          "output_type": "stream",
          "name": "stderr",
          "text": [
            "0: 640x384 1 person, 1 surfboard, 241.1ms\n",
            "Speed: 3.5ms preprocess, 241.1ms inference, 2.3ms postprocess per image at shape (1, 3, 640, 384)\n",
            "\n"
          ]
        },
        {
          "output_type": "stream",
          "name": "stdout",
          "text": [
            "frame number 165\n"
          ]
        },
        {
          "output_type": "stream",
          "name": "stderr",
          "text": [
            "0: 640x384 1 person, 1 surfboard, 257.5ms\n",
            "Speed: 6.6ms preprocess, 257.5ms inference, 2.2ms postprocess per image at shape (1, 3, 640, 384)\n",
            "\n"
          ]
        },
        {
          "output_type": "stream",
          "name": "stdout",
          "text": [
            "frame number 166\n"
          ]
        },
        {
          "output_type": "stream",
          "name": "stderr",
          "text": [
            "0: 640x384 1 person, 1 surfboard, 214.0ms\n",
            "Speed: 3.6ms preprocess, 214.0ms inference, 1.9ms postprocess per image at shape (1, 3, 640, 384)\n",
            "\n",
            "0: 640x384 1 person, 1 surfboard, 162.7ms\n",
            "Speed: 3.5ms preprocess, 162.7ms inference, 1.9ms postprocess per image at shape (1, 3, 640, 384)\n"
          ]
        },
        {
          "output_type": "stream",
          "name": "stdout",
          "text": [
            "frame number 167\n"
          ]
        },
        {
          "output_type": "stream",
          "name": "stderr",
          "text": [
            "\n",
            "0: 640x384 1 person, 2 surfboards, 154.6ms\n",
            "Speed: 5.0ms preprocess, 154.6ms inference, 1.8ms postprocess per image at shape (1, 3, 640, 384)\n"
          ]
        },
        {
          "output_type": "stream",
          "name": "stdout",
          "text": [
            "frame number 168\n"
          ]
        },
        {
          "output_type": "stream",
          "name": "stderr",
          "text": [
            "\n",
            "0: 640x384 1 person, 1 surfboard, 164.4ms\n",
            "Speed: 4.1ms preprocess, 164.4ms inference, 1.5ms postprocess per image at shape (1, 3, 640, 384)\n"
          ]
        },
        {
          "output_type": "stream",
          "name": "stdout",
          "text": [
            "frame number 169\n"
          ]
        },
        {
          "output_type": "stream",
          "name": "stderr",
          "text": [
            "\n",
            "0: 640x384 1 person, 2 surfboards, 157.9ms\n",
            "Speed: 4.5ms preprocess, 157.9ms inference, 1.5ms postprocess per image at shape (1, 3, 640, 384)\n"
          ]
        },
        {
          "output_type": "stream",
          "name": "stdout",
          "text": [
            "frame number 170\n"
          ]
        },
        {
          "output_type": "stream",
          "name": "stderr",
          "text": [
            "\n",
            "0: 640x384 1 person, 1 surfboard, 160.9ms\n",
            "Speed: 3.4ms preprocess, 160.9ms inference, 1.8ms postprocess per image at shape (1, 3, 640, 384)\n"
          ]
        },
        {
          "output_type": "stream",
          "name": "stdout",
          "text": [
            "frame number 171\n"
          ]
        },
        {
          "output_type": "stream",
          "name": "stderr",
          "text": [
            "\n",
            "0: 640x384 1 person, 2 surfboards, 162.2ms\n",
            "Speed: 3.4ms preprocess, 162.2ms inference, 1.5ms postprocess per image at shape (1, 3, 640, 384)\n"
          ]
        },
        {
          "output_type": "stream",
          "name": "stdout",
          "text": [
            "frame number 172\n"
          ]
        },
        {
          "output_type": "stream",
          "name": "stderr",
          "text": [
            "\n",
            "0: 640x384 1 person, 2 surfboards, 167.6ms\n",
            "Speed: 6.9ms preprocess, 167.6ms inference, 1.4ms postprocess per image at shape (1, 3, 640, 384)\n"
          ]
        },
        {
          "output_type": "stream",
          "name": "stdout",
          "text": [
            "frame number 173\n"
          ]
        },
        {
          "output_type": "stream",
          "name": "stderr",
          "text": [
            "\n",
            "0: 640x384 1 person, 2 surfboards, 162.7ms\n",
            "Speed: 6.7ms preprocess, 162.7ms inference, 3.7ms postprocess per image at shape (1, 3, 640, 384)\n"
          ]
        },
        {
          "output_type": "stream",
          "name": "stdout",
          "text": [
            "frame number 174\n"
          ]
        },
        {
          "output_type": "stream",
          "name": "stderr",
          "text": [
            "\n",
            "0: 640x384 1 person, 2 surfboards, 151.2ms\n",
            "Speed: 3.4ms preprocess, 151.2ms inference, 1.4ms postprocess per image at shape (1, 3, 640, 384)\n",
            "\n"
          ]
        },
        {
          "output_type": "stream",
          "name": "stdout",
          "text": [
            "frame number 175\n",
            "frame number 176\n"
          ]
        },
        {
          "output_type": "stream",
          "name": "stderr",
          "text": [
            "0: 640x384 1 person, 2 surfboards, 166.7ms\n",
            "Speed: 3.6ms preprocess, 166.7ms inference, 1.5ms postprocess per image at shape (1, 3, 640, 384)\n",
            "\n",
            "0: 640x384 1 person, 1 surfboard, 154.8ms\n",
            "Speed: 3.8ms preprocess, 154.8ms inference, 1.4ms postprocess per image at shape (1, 3, 640, 384)\n"
          ]
        },
        {
          "output_type": "stream",
          "name": "stdout",
          "text": [
            "frame number 177\n"
          ]
        },
        {
          "output_type": "stream",
          "name": "stderr",
          "text": [
            "\n",
            "0: 640x384 1 person, 1 surfboard, 162.2ms\n",
            "Speed: 3.1ms preprocess, 162.2ms inference, 1.6ms postprocess per image at shape (1, 3, 640, 384)\n"
          ]
        },
        {
          "output_type": "stream",
          "name": "stdout",
          "text": [
            "frame number 178\n"
          ]
        },
        {
          "output_type": "stream",
          "name": "stderr",
          "text": [
            "\n",
            "0: 640x384 1 person, 1 surfboard, 170.8ms\n",
            "Speed: 3.0ms preprocess, 170.8ms inference, 1.4ms postprocess per image at shape (1, 3, 640, 384)\n"
          ]
        },
        {
          "output_type": "stream",
          "name": "stdout",
          "text": [
            "frame number 179\n"
          ]
        },
        {
          "output_type": "stream",
          "name": "stderr",
          "text": [
            "\n",
            "0: 640x384 1 person, 1 surfboard, 155.1ms\n",
            "Speed: 3.0ms preprocess, 155.1ms inference, 1.4ms postprocess per image at shape (1, 3, 640, 384)\n",
            "\n"
          ]
        },
        {
          "output_type": "stream",
          "name": "stdout",
          "text": [
            "frame number 180\n",
            "frame number 181\n"
          ]
        },
        {
          "output_type": "stream",
          "name": "stderr",
          "text": [
            "0: 640x384 1 person, 1 surfboard, 154.5ms\n",
            "Speed: 3.2ms preprocess, 154.5ms inference, 1.3ms postprocess per image at shape (1, 3, 640, 384)\n",
            "\n",
            "0: 640x384 1 person, 1 surfboard, 157.8ms\n",
            "Speed: 2.7ms preprocess, 157.8ms inference, 1.6ms postprocess per image at shape (1, 3, 640, 384)\n"
          ]
        },
        {
          "output_type": "stream",
          "name": "stdout",
          "text": [
            "frame number 182\n"
          ]
        },
        {
          "output_type": "stream",
          "name": "stderr",
          "text": [
            "\n",
            "0: 640x384 1 person, 1 surfboard, 153.5ms\n",
            "Speed: 4.2ms preprocess, 153.5ms inference, 1.6ms postprocess per image at shape (1, 3, 640, 384)\n"
          ]
        },
        {
          "output_type": "stream",
          "name": "stdout",
          "text": [
            "frame number 183\n",
            "frame number "
          ]
        },
        {
          "output_type": "stream",
          "name": "stderr",
          "text": [
            "\n",
            "0: 640x384 1 person, 1 surfboard, 171.4ms\n",
            "Speed: 3.5ms preprocess, 171.4ms inference, 1.5ms postprocess per image at shape (1, 3, 640, 384)\n"
          ]
        },
        {
          "output_type": "stream",
          "name": "stdout",
          "text": [
            "184\n"
          ]
        },
        {
          "output_type": "stream",
          "name": "stderr",
          "text": [
            "\n",
            "0: 640x384 1 person, 1 surfboard, 156.2ms\n",
            "Speed: 3.5ms preprocess, 156.2ms inference, 1.8ms postprocess per image at shape (1, 3, 640, 384)\n"
          ]
        },
        {
          "output_type": "stream",
          "name": "stdout",
          "text": [
            "frame number 185\n"
          ]
        },
        {
          "output_type": "stream",
          "name": "stderr",
          "text": [
            "\n",
            "0: 640x384 1 person, 1 surfboard, 159.7ms\n",
            "Speed: 3.2ms preprocess, 159.7ms inference, 1.6ms postprocess per image at shape (1, 3, 640, 384)\n"
          ]
        },
        {
          "output_type": "stream",
          "name": "stdout",
          "text": [
            "frame number 186\n"
          ]
        },
        {
          "output_type": "stream",
          "name": "stderr",
          "text": [
            "\n",
            "0: 640x384 1 person, 1 surfboard, 164.9ms\n",
            "Speed: 3.3ms preprocess, 164.9ms inference, 1.9ms postprocess per image at shape (1, 3, 640, 384)\n"
          ]
        },
        {
          "output_type": "stream",
          "name": "stdout",
          "text": [
            "frame number 187\n"
          ]
        },
        {
          "output_type": "stream",
          "name": "stderr",
          "text": [
            "\n",
            "0: 640x384 1 person, 2 surfboards, 161.7ms\n",
            "Speed: 4.9ms preprocess, 161.7ms inference, 1.5ms postprocess per image at shape (1, 3, 640, 384)\n"
          ]
        },
        {
          "output_type": "stream",
          "name": "stdout",
          "text": [
            "frame number 188\n"
          ]
        },
        {
          "output_type": "stream",
          "name": "stderr",
          "text": [
            "\n",
            "0: 640x384 1 person, 2 surfboards, 173.5ms\n",
            "Speed: 3.7ms preprocess, 173.5ms inference, 1.6ms postprocess per image at shape (1, 3, 640, 384)\n"
          ]
        },
        {
          "output_type": "stream",
          "name": "stdout",
          "text": [
            "frame number 189\n"
          ]
        },
        {
          "output_type": "stream",
          "name": "stderr",
          "text": [
            "\n",
            "0: 640x384 1 person, 2 surfboards, 167.5ms\n",
            "Speed: 3.5ms preprocess, 167.5ms inference, 2.1ms postprocess per image at shape (1, 3, 640, 384)\n"
          ]
        },
        {
          "output_type": "stream",
          "name": "stdout",
          "text": [
            "frame number 190\n"
          ]
        },
        {
          "output_type": "stream",
          "name": "stderr",
          "text": [
            "\n",
            "0: 640x384 1 person, 2 surfboards, 157.4ms\n",
            "Speed: 3.4ms preprocess, 157.4ms inference, 1.5ms postprocess per image at shape (1, 3, 640, 384)\n"
          ]
        },
        {
          "output_type": "stream",
          "name": "stdout",
          "text": [
            "frame number 191\n"
          ]
        },
        {
          "output_type": "stream",
          "name": "stderr",
          "text": [
            "\n",
            "0: 640x384 1 person, 2 surfboards, 159.3ms\n",
            "Speed: 4.0ms preprocess, 159.3ms inference, 1.8ms postprocess per image at shape (1, 3, 640, 384)\n"
          ]
        },
        {
          "output_type": "stream",
          "name": "stdout",
          "text": [
            "frame number 192\n"
          ]
        },
        {
          "output_type": "stream",
          "name": "stderr",
          "text": [
            "\n",
            "0: 640x384 1 person, 1 surfboard, 160.0ms\n",
            "Speed: 3.6ms preprocess, 160.0ms inference, 1.6ms postprocess per image at shape (1, 3, 640, 384)\n"
          ]
        },
        {
          "output_type": "stream",
          "name": "stdout",
          "text": [
            "frame number 193\n"
          ]
        },
        {
          "output_type": "stream",
          "name": "stderr",
          "text": [
            "\n",
            "0: 640x384 1 person, 1 surfboard, 168.1ms\n",
            "Speed: 3.5ms preprocess, 168.1ms inference, 1.4ms postprocess per image at shape (1, 3, 640, 384)\n"
          ]
        },
        {
          "output_type": "stream",
          "name": "stdout",
          "text": [
            "frame number 194\n"
          ]
        },
        {
          "output_type": "stream",
          "name": "stderr",
          "text": [
            "\n",
            "0: 640x384 1 person, 1 surfboard, 156.9ms\n",
            "Speed: 4.3ms preprocess, 156.9ms inference, 1.7ms postprocess per image at shape (1, 3, 640, 384)\n"
          ]
        },
        {
          "output_type": "stream",
          "name": "stdout",
          "text": [
            "frame number 195\n"
          ]
        },
        {
          "output_type": "stream",
          "name": "stderr",
          "text": [
            "\n",
            "0: 640x384 1 person, 1 surfboard, 167.1ms\n",
            "Speed: 3.4ms preprocess, 167.1ms inference, 1.9ms postprocess per image at shape (1, 3, 640, 384)\n"
          ]
        },
        {
          "output_type": "stream",
          "name": "stdout",
          "text": [
            "frame number 196\n"
          ]
        },
        {
          "output_type": "stream",
          "name": "stderr",
          "text": [
            "\n",
            "0: 640x384 1 person, 1 surfboard, 159.0ms\n",
            "Speed: 4.3ms preprocess, 159.0ms inference, 1.6ms postprocess per image at shape (1, 3, 640, 384)\n"
          ]
        },
        {
          "output_type": "stream",
          "name": "stdout",
          "text": [
            "frame number 197\n"
          ]
        },
        {
          "output_type": "stream",
          "name": "stderr",
          "text": [
            "\n",
            "0: 640x384 1 person, 1 surfboard, 159.5ms\n",
            "Speed: 3.7ms preprocess, 159.5ms inference, 1.5ms postprocess per image at shape (1, 3, 640, 384)\n"
          ]
        },
        {
          "output_type": "stream",
          "name": "stdout",
          "text": [
            "frame number 198\n"
          ]
        },
        {
          "output_type": "stream",
          "name": "stderr",
          "text": [
            "\n",
            "0: 640x384 1 person, 1 surfboard, 175.0ms\n",
            "Speed: 5.3ms preprocess, 175.0ms inference, 1.5ms postprocess per image at shape (1, 3, 640, 384)\n"
          ]
        },
        {
          "output_type": "stream",
          "name": "stdout",
          "text": [
            "frame number 199\n"
          ]
        },
        {
          "output_type": "stream",
          "name": "stderr",
          "text": [
            "\n",
            "0: 640x384 1 person, 2 surfboards, 161.9ms\n",
            "Speed: 3.5ms preprocess, 161.9ms inference, 1.6ms postprocess per image at shape (1, 3, 640, 384)\n"
          ]
        },
        {
          "output_type": "stream",
          "name": "stdout",
          "text": [
            "frame number 200\n"
          ]
        },
        {
          "output_type": "stream",
          "name": "stderr",
          "text": [
            "\n",
            "0: 640x384 1 person, 1 surfboard, 156.7ms\n",
            "Speed: 3.9ms preprocess, 156.7ms inference, 1.5ms postprocess per image at shape (1, 3, 640, 384)\n"
          ]
        },
        {
          "output_type": "stream",
          "name": "stdout",
          "text": [
            "frame number 201\n"
          ]
        },
        {
          "output_type": "stream",
          "name": "stderr",
          "text": [
            "\n",
            "0: 640x384 1 person, 2 surfboards, 170.4ms\n",
            "Speed: 5.9ms preprocess, 170.4ms inference, 1.6ms postprocess per image at shape (1, 3, 640, 384)\n"
          ]
        },
        {
          "output_type": "stream",
          "name": "stdout",
          "text": [
            "frame number 202\n"
          ]
        },
        {
          "output_type": "stream",
          "name": "stderr",
          "text": [
            "\n",
            "0: 640x384 1 person, 1 surfboard, 167.9ms\n",
            "Speed: 8.4ms preprocess, 167.9ms inference, 2.2ms postprocess per image at shape (1, 3, 640, 384)\n"
          ]
        },
        {
          "output_type": "stream",
          "name": "stdout",
          "text": [
            "frame number 203\n"
          ]
        },
        {
          "output_type": "stream",
          "name": "stderr",
          "text": [
            "\n",
            "0: 640x384 1 person, 1 surfboard, 166.2ms\n",
            "Speed: 3.6ms preprocess, 166.2ms inference, 2.3ms postprocess per image at shape (1, 3, 640, 384)\n"
          ]
        },
        {
          "output_type": "stream",
          "name": "stdout",
          "text": [
            "frame number 204\n"
          ]
        },
        {
          "output_type": "stream",
          "name": "stderr",
          "text": [
            "\n",
            "0: 640x384 1 person, 1 surfboard, 153.3ms\n",
            "Speed: 6.0ms preprocess, 153.3ms inference, 1.5ms postprocess per image at shape (1, 3, 640, 384)\n"
          ]
        },
        {
          "output_type": "stream",
          "name": "stdout",
          "text": [
            "frame number 205\n"
          ]
        },
        {
          "output_type": "stream",
          "name": "stderr",
          "text": [
            "\n",
            "0: 640x384 1 person, 2 surfboards, 160.1ms\n",
            "Speed: 3.9ms preprocess, 160.1ms inference, 1.5ms postprocess per image at shape (1, 3, 640, 384)\n"
          ]
        },
        {
          "output_type": "stream",
          "name": "stdout",
          "text": [
            "frame number 206\n"
          ]
        },
        {
          "output_type": "stream",
          "name": "stderr",
          "text": [
            "\n",
            "0: 640x384 1 person, 2 surfboards, 164.5ms\n",
            "Speed: 3.5ms preprocess, 164.5ms inference, 1.5ms postprocess per image at shape (1, 3, 640, 384)\n"
          ]
        },
        {
          "output_type": "stream",
          "name": "stdout",
          "text": [
            "frame number 207\n"
          ]
        },
        {
          "output_type": "stream",
          "name": "stderr",
          "text": [
            "\n",
            "0: 640x384 1 person, 2 surfboards, 160.4ms\n",
            "Speed: 6.0ms preprocess, 160.4ms inference, 1.5ms postprocess per image at shape (1, 3, 640, 384)\n"
          ]
        },
        {
          "output_type": "stream",
          "name": "stdout",
          "text": [
            "frame number 208\n"
          ]
        },
        {
          "output_type": "stream",
          "name": "stderr",
          "text": [
            "\n",
            "0: 640x384 1 person, 1 surfboard, 157.8ms\n",
            "Speed: 3.4ms preprocess, 157.8ms inference, 1.6ms postprocess per image at shape (1, 3, 640, 384)\n"
          ]
        },
        {
          "output_type": "stream",
          "name": "stdout",
          "text": [
            "frame number 209\n"
          ]
        },
        {
          "output_type": "stream",
          "name": "stderr",
          "text": [
            "\n",
            "0: 640x384 1 person, 1 surfboard, 158.1ms\n",
            "Speed: 4.9ms preprocess, 158.1ms inference, 1.5ms postprocess per image at shape (1, 3, 640, 384)\n"
          ]
        },
        {
          "output_type": "stream",
          "name": "stdout",
          "text": [
            "frame number 210\n"
          ]
        },
        {
          "output_type": "stream",
          "name": "stderr",
          "text": [
            "\n",
            "0: 640x384 2 persons, 2 surfboards, 164.7ms\n",
            "Speed: 3.7ms preprocess, 164.7ms inference, 1.5ms postprocess per image at shape (1, 3, 640, 384)\n"
          ]
        },
        {
          "output_type": "stream",
          "name": "stdout",
          "text": [
            "frame number 211\n"
          ]
        },
        {
          "output_type": "stream",
          "name": "stderr",
          "text": [
            "\n",
            "0: 640x384 2 persons, 2 surfboards, 172.2ms\n",
            "Speed: 3.5ms preprocess, 172.2ms inference, 3.0ms postprocess per image at shape (1, 3, 640, 384)\n"
          ]
        },
        {
          "output_type": "stream",
          "name": "stdout",
          "text": [
            "frame number 212\n"
          ]
        },
        {
          "output_type": "stream",
          "name": "stderr",
          "text": [
            "\n"
          ]
        },
        {
          "output_type": "stream",
          "name": "stdout",
          "text": [
            "frame number 213\n"
          ]
        },
        {
          "output_type": "stream",
          "name": "stderr",
          "text": [
            "0: 640x384 2 persons, 2 surfboards, 203.0ms\n",
            "Speed: 3.3ms preprocess, 203.0ms inference, 2.7ms postprocess per image at shape (1, 3, 640, 384)\n",
            "\n"
          ]
        },
        {
          "output_type": "stream",
          "name": "stdout",
          "text": [
            "frame number 214\n"
          ]
        },
        {
          "output_type": "stream",
          "name": "stderr",
          "text": [
            "0: 640x384 2 persons, 2 surfboards, 246.7ms\n",
            "Speed: 3.5ms preprocess, 246.7ms inference, 2.0ms postprocess per image at shape (1, 3, 640, 384)\n",
            "\n"
          ]
        },
        {
          "output_type": "stream",
          "name": "stdout",
          "text": [
            "frame number 215\n"
          ]
        },
        {
          "output_type": "stream",
          "name": "stderr",
          "text": [
            "0: 640x384 1 person, 2 surfboards, 255.0ms\n",
            "Speed: 3.4ms preprocess, 255.0ms inference, 2.1ms postprocess per image at shape (1, 3, 640, 384)\n",
            "\n"
          ]
        },
        {
          "output_type": "stream",
          "name": "stdout",
          "text": [
            "frame number 216\n"
          ]
        },
        {
          "output_type": "stream",
          "name": "stderr",
          "text": [
            "0: 640x384 2 persons, 2 surfboards, 259.9ms\n",
            "Speed: 3.4ms preprocess, 259.9ms inference, 1.9ms postprocess per image at shape (1, 3, 640, 384)\n",
            "\n"
          ]
        },
        {
          "output_type": "stream",
          "name": "stdout",
          "text": [
            "frame number 217\n"
          ]
        },
        {
          "output_type": "stream",
          "name": "stderr",
          "text": [
            "0: 640x384 2 persons, 2 surfboards, 253.0ms\n",
            "Speed: 3.4ms preprocess, 253.0ms inference, 2.0ms postprocess per image at shape (1, 3, 640, 384)\n",
            "\n"
          ]
        },
        {
          "output_type": "stream",
          "name": "stdout",
          "text": [
            "frame number 218\n"
          ]
        },
        {
          "output_type": "stream",
          "name": "stderr",
          "text": [
            "0: 640x384 2 persons, 1 surfboard, 265.5ms\n",
            "Speed: 3.6ms preprocess, 265.5ms inference, 2.0ms postprocess per image at shape (1, 3, 640, 384)\n",
            "\n"
          ]
        },
        {
          "output_type": "stream",
          "name": "stdout",
          "text": [
            "frame number 219\n"
          ]
        },
        {
          "output_type": "stream",
          "name": "stderr",
          "text": [
            "0: 640x384 1 person, 1 surfboard, 260.1ms\n",
            "Speed: 3.3ms preprocess, 260.1ms inference, 2.0ms postprocess per image at shape (1, 3, 640, 384)\n",
            "\n"
          ]
        },
        {
          "output_type": "stream",
          "name": "stdout",
          "text": [
            "frame number 220\n"
          ]
        },
        {
          "output_type": "stream",
          "name": "stderr",
          "text": [
            "0: 640x384 1 person, 2 surfboards, 260.3ms\n",
            "Speed: 3.5ms preprocess, 260.3ms inference, 2.0ms postprocess per image at shape (1, 3, 640, 384)\n",
            "\n"
          ]
        },
        {
          "output_type": "stream",
          "name": "stdout",
          "text": [
            "frame number 221\n"
          ]
        },
        {
          "output_type": "stream",
          "name": "stderr",
          "text": [
            "0: 640x384 1 person, 2 surfboards, 253.2ms\n",
            "Speed: 3.5ms preprocess, 253.2ms inference, 2.2ms postprocess per image at shape (1, 3, 640, 384)\n",
            "\n"
          ]
        },
        {
          "output_type": "stream",
          "name": "stdout",
          "text": [
            "frame number 222\n"
          ]
        },
        {
          "output_type": "stream",
          "name": "stderr",
          "text": [
            "0: 640x384 1 person, 2 surfboards, 262.8ms\n",
            "Speed: 3.5ms preprocess, 262.8ms inference, 2.4ms postprocess per image at shape (1, 3, 640, 384)\n",
            "\n"
          ]
        },
        {
          "output_type": "stream",
          "name": "stdout",
          "text": [
            "frame number 223\n"
          ]
        },
        {
          "output_type": "stream",
          "name": "stderr",
          "text": [
            "0: 640x384 1 person, 2 surfboards, 252.5ms\n",
            "Speed: 3.3ms preprocess, 252.5ms inference, 2.2ms postprocess per image at shape (1, 3, 640, 384)\n",
            "\n"
          ]
        },
        {
          "output_type": "stream",
          "name": "stdout",
          "text": [
            "frame number 224\n"
          ]
        },
        {
          "output_type": "stream",
          "name": "stderr",
          "text": [
            "0: 640x384 1 person, 2 surfboards, 264.1ms\n",
            "Speed: 3.7ms preprocess, 264.1ms inference, 2.3ms postprocess per image at shape (1, 3, 640, 384)\n",
            "\n"
          ]
        },
        {
          "output_type": "stream",
          "name": "stdout",
          "text": [
            "frame number 225\n"
          ]
        },
        {
          "output_type": "stream",
          "name": "stderr",
          "text": [
            "0: 640x384 1 person, 2 surfboards, 263.5ms\n",
            "Speed: 3.5ms preprocess, 263.5ms inference, 2.3ms postprocess per image at shape (1, 3, 640, 384)\n",
            "\n"
          ]
        },
        {
          "output_type": "stream",
          "name": "stdout",
          "text": [
            "frame number 226\n"
          ]
        },
        {
          "output_type": "stream",
          "name": "stderr",
          "text": [
            "0: 640x384 1 person, 1 surfboard, 247.2ms\n",
            "Speed: 6.0ms preprocess, 247.2ms inference, 2.1ms postprocess per image at shape (1, 3, 640, 384)\n",
            "\n",
            "0: 640x384 1 person, 1 surfboard, 158.6ms\n",
            "Speed: 3.5ms preprocess, 158.6ms inference, 1.6ms postprocess per image at shape (1, 3, 640, 384)\n"
          ]
        },
        {
          "output_type": "stream",
          "name": "stdout",
          "text": [
            "frame number 227\n"
          ]
        },
        {
          "output_type": "stream",
          "name": "stderr",
          "text": [
            "\n",
            "0: 640x384 1 person, 2 surfboards, 158.2ms\n",
            "Speed: 4.7ms preprocess, 158.2ms inference, 1.5ms postprocess per image at shape (1, 3, 640, 384)\n"
          ]
        },
        {
          "output_type": "stream",
          "name": "stdout",
          "text": [
            "frame number 228\n"
          ]
        },
        {
          "output_type": "stream",
          "name": "stderr",
          "text": [
            "\n",
            "0: 640x384 1 person, 1 surfboard, 152.9ms\n",
            "Speed: 3.6ms preprocess, 152.9ms inference, 1.5ms postprocess per image at shape (1, 3, 640, 384)\n"
          ]
        },
        {
          "output_type": "stream",
          "name": "stdout",
          "text": [
            "frame number 229\n"
          ]
        },
        {
          "output_type": "stream",
          "name": "stderr",
          "text": [
            "\n",
            "0: 640x384 1 person, 1 surfboard, 160.4ms\n",
            "Speed: 3.4ms preprocess, 160.4ms inference, 1.9ms postprocess per image at shape (1, 3, 640, 384)\n"
          ]
        },
        {
          "output_type": "stream",
          "name": "stdout",
          "text": [
            "frame number 230\n"
          ]
        },
        {
          "output_type": "stream",
          "name": "stderr",
          "text": [
            "\n",
            "0: 640x384 1 person, 1 surfboard, 167.7ms\n",
            "Speed: 3.9ms preprocess, 167.7ms inference, 1.6ms postprocess per image at shape (1, 3, 640, 384)\n"
          ]
        },
        {
          "output_type": "stream",
          "name": "stdout",
          "text": [
            "frame number 231\n"
          ]
        },
        {
          "output_type": "stream",
          "name": "stderr",
          "text": [
            "\n",
            "0: 640x384 1 person, 1 surfboard, 160.2ms\n",
            "Speed: 3.4ms preprocess, 160.2ms inference, 1.5ms postprocess per image at shape (1, 3, 640, 384)\n"
          ]
        },
        {
          "output_type": "stream",
          "name": "stdout",
          "text": [
            "frame number 232\n"
          ]
        },
        {
          "output_type": "stream",
          "name": "stderr",
          "text": [
            "\n",
            "0: 640x384 1 person, 1 surfboard, 156.5ms\n",
            "Speed: 3.2ms preprocess, 156.5ms inference, 1.4ms postprocess per image at shape (1, 3, 640, 384)\n"
          ]
        },
        {
          "output_type": "stream",
          "name": "stdout",
          "text": [
            "frame number 233\n"
          ]
        },
        {
          "output_type": "stream",
          "name": "stderr",
          "text": [
            "\n",
            "0: 640x384 1 person, 1 surfboard, 160.1ms\n",
            "Speed: 3.7ms preprocess, 160.1ms inference, 1.5ms postprocess per image at shape (1, 3, 640, 384)\n"
          ]
        },
        {
          "output_type": "stream",
          "name": "stdout",
          "text": [
            "frame number 234\n"
          ]
        },
        {
          "output_type": "stream",
          "name": "stderr",
          "text": [
            "\n",
            "0: 640x384 1 person, 2 surfboards, 159.6ms\n",
            "Speed: 2.8ms preprocess, 159.6ms inference, 1.4ms postprocess per image at shape (1, 3, 640, 384)\n"
          ]
        },
        {
          "output_type": "stream",
          "name": "stdout",
          "text": [
            "frame number 235\n"
          ]
        },
        {
          "output_type": "stream",
          "name": "stderr",
          "text": [
            "\n",
            "0: 640x384 1 person, 1 surfboard, 163.9ms\n",
            "Speed: 3.4ms preprocess, 163.9ms inference, 1.5ms postprocess per image at shape (1, 3, 640, 384)\n"
          ]
        },
        {
          "output_type": "stream",
          "name": "stdout",
          "text": [
            "frame number 236\n"
          ]
        },
        {
          "output_type": "stream",
          "name": "stderr",
          "text": [
            "\n",
            "0: 640x384 1 person, 1 surfboard, 159.1ms\n",
            "Speed: 3.5ms preprocess, 159.1ms inference, 1.6ms postprocess per image at shape (1, 3, 640, 384)\n"
          ]
        },
        {
          "output_type": "stream",
          "name": "stdout",
          "text": [
            "frame number 237\n",
            "frame number "
          ]
        },
        {
          "output_type": "stream",
          "name": "stderr",
          "text": [
            "\n",
            "0: 640x384 1 person, 1 surfboard, 173.5ms\n",
            "Speed: 3.5ms preprocess, 173.5ms inference, 1.5ms postprocess per image at shape (1, 3, 640, 384)\n"
          ]
        },
        {
          "output_type": "stream",
          "name": "stdout",
          "text": [
            "238\n"
          ]
        },
        {
          "output_type": "stream",
          "name": "stderr",
          "text": [
            "\n",
            "0: 640x384 1 person, 2 surfboards, 168.4ms\n",
            "Speed: 3.5ms preprocess, 168.4ms inference, 1.6ms postprocess per image at shape (1, 3, 640, 384)\n"
          ]
        },
        {
          "output_type": "stream",
          "name": "stdout",
          "text": [
            "frame number 239\n"
          ]
        },
        {
          "output_type": "stream",
          "name": "stderr",
          "text": [
            "\n",
            "0: 640x384 1 person, 2 surfboards, 155.4ms\n",
            "Speed: 3.9ms preprocess, 155.4ms inference, 1.7ms postprocess per image at shape (1, 3, 640, 384)\n"
          ]
        },
        {
          "output_type": "stream",
          "name": "stdout",
          "text": [
            "frame number 240\n"
          ]
        },
        {
          "output_type": "stream",
          "name": "stderr",
          "text": [
            "\n",
            "0: 640x384 1 person, 1 surfboard, 172.0ms\n",
            "Speed: 4.0ms preprocess, 172.0ms inference, 2.4ms postprocess per image at shape (1, 3, 640, 384)\n"
          ]
        },
        {
          "output_type": "stream",
          "name": "stdout",
          "text": [
            "frame number 241\n"
          ]
        },
        {
          "output_type": "stream",
          "name": "stderr",
          "text": [
            "\n",
            "0: 640x384 1 person, 1 surfboard, 161.4ms\n",
            "Speed: 4.9ms preprocess, 161.4ms inference, 1.5ms postprocess per image at shape (1, 3, 640, 384)\n"
          ]
        },
        {
          "output_type": "stream",
          "name": "stdout",
          "text": [
            "frame number 242\n"
          ]
        },
        {
          "output_type": "stream",
          "name": "stderr",
          "text": [
            "\n",
            "0: 640x384 1 person, 1 surfboard, 160.7ms\n",
            "Speed: 3.2ms preprocess, 160.7ms inference, 1.3ms postprocess per image at shape (1, 3, 640, 384)\n"
          ]
        },
        {
          "output_type": "stream",
          "name": "stdout",
          "text": [
            "frame number 243\n"
          ]
        },
        {
          "output_type": "stream",
          "name": "stderr",
          "text": [
            "\n",
            "0: 640x384 1 person, 2 surfboards, 155.3ms\n",
            "Speed: 4.9ms preprocess, 155.3ms inference, 1.4ms postprocess per image at shape (1, 3, 640, 384)\n"
          ]
        },
        {
          "output_type": "stream",
          "name": "stdout",
          "text": [
            "frame number 244\n"
          ]
        },
        {
          "output_type": "stream",
          "name": "stderr",
          "text": [
            "\n",
            "0: 640x384 1 person, 1 surfboard, 151.6ms\n",
            "Speed: 3.0ms preprocess, 151.6ms inference, 1.4ms postprocess per image at shape (1, 3, 640, 384)\n"
          ]
        },
        {
          "output_type": "stream",
          "name": "stdout",
          "text": [
            "frame number 245\n"
          ]
        },
        {
          "output_type": "stream",
          "name": "stderr",
          "text": [
            "\n",
            "0: 640x384 1 person, 1 surfboard, 156.1ms\n",
            "Speed: 3.1ms preprocess, 156.1ms inference, 1.3ms postprocess per image at shape (1, 3, 640, 384)\n"
          ]
        },
        {
          "output_type": "stream",
          "name": "stdout",
          "text": [
            "frame number 246\n"
          ]
        },
        {
          "output_type": "stream",
          "name": "stderr",
          "text": [
            "\n",
            "0: 640x384 1 person, 1 surfboard, 150.0ms\n",
            "Speed: 3.0ms preprocess, 150.0ms inference, 1.8ms postprocess per image at shape (1, 3, 640, 384)\n"
          ]
        },
        {
          "output_type": "stream",
          "name": "stdout",
          "text": [
            "frame number 247\n",
            "frame number"
          ]
        },
        {
          "output_type": "stream",
          "name": "stderr",
          "text": [
            "\n",
            "0: 640x384 1 person, 1 surfboard, 170.4ms\n",
            "Speed: 3.3ms preprocess, 170.4ms inference, 1.5ms postprocess per image at shape (1, 3, 640, 384)\n"
          ]
        },
        {
          "output_type": "stream",
          "name": "stdout",
          "text": [
            " 248\n"
          ]
        },
        {
          "output_type": "stream",
          "name": "stderr",
          "text": [
            "\n",
            "0: 640x384 1 person, 1 surfboard, 166.5ms\n",
            "Speed: 3.5ms preprocess, 166.5ms inference, 1.5ms postprocess per image at shape (1, 3, 640, 384)\n"
          ]
        },
        {
          "output_type": "stream",
          "name": "stdout",
          "text": [
            "frame number 249\n"
          ]
        },
        {
          "output_type": "stream",
          "name": "stderr",
          "text": [
            "\n",
            "0: 640x384 1 person, 1 surfboard, 166.0ms\n",
            "Speed: 4.2ms preprocess, 166.0ms inference, 1.6ms postprocess per image at shape (1, 3, 640, 384)\n"
          ]
        },
        {
          "output_type": "stream",
          "name": "stdout",
          "text": [
            "frame number 250\n"
          ]
        },
        {
          "output_type": "stream",
          "name": "stderr",
          "text": [
            "\n",
            "0: 640x384 1 person, 1 surfboard, 167.7ms\n",
            "Speed: 4.1ms preprocess, 167.7ms inference, 1.7ms postprocess per image at shape (1, 3, 640, 384)\n"
          ]
        },
        {
          "output_type": "stream",
          "name": "stdout",
          "text": [
            "frame number 251\n"
          ]
        },
        {
          "output_type": "stream",
          "name": "stderr",
          "text": [
            "\n",
            "0: 640x384 1 person, 1 surfboard, 175.0ms\n",
            "Speed: 5.5ms preprocess, 175.0ms inference, 1.9ms postprocess per image at shape (1, 3, 640, 384)\n"
          ]
        },
        {
          "output_type": "stream",
          "name": "stdout",
          "text": [
            "frame number 252\n"
          ]
        },
        {
          "output_type": "stream",
          "name": "stderr",
          "text": [
            "\n",
            "0: 640x384 1 person, 1 surfboard, 164.6ms\n",
            "Speed: 4.2ms preprocess, 164.6ms inference, 1.8ms postprocess per image at shape (1, 3, 640, 384)\n"
          ]
        },
        {
          "output_type": "stream",
          "name": "stdout",
          "text": [
            "frame number 253\n"
          ]
        },
        {
          "output_type": "stream",
          "name": "stderr",
          "text": [
            "\n",
            "0: 640x384 1 person, 1 surfboard, 159.9ms\n",
            "Speed: 4.2ms preprocess, 159.9ms inference, 1.8ms postprocess per image at shape (1, 3, 640, 384)\n"
          ]
        },
        {
          "output_type": "stream",
          "name": "stdout",
          "text": [
            "frame number 254\n"
          ]
        },
        {
          "output_type": "stream",
          "name": "stderr",
          "text": [
            "\n",
            "0: 640x384 1 person, 1 surfboard, 174.0ms\n",
            "Speed: 3.2ms preprocess, 174.0ms inference, 1.5ms postprocess per image at shape (1, 3, 640, 384)\n"
          ]
        },
        {
          "output_type": "stream",
          "name": "stdout",
          "text": [
            "frame number 255\n"
          ]
        },
        {
          "output_type": "stream",
          "name": "stderr",
          "text": [
            "\n",
            "0: 640x384 1 person, 3 surfboards, 164.1ms\n",
            "Speed: 3.9ms preprocess, 164.1ms inference, 1.8ms postprocess per image at shape (1, 3, 640, 384)\n"
          ]
        },
        {
          "output_type": "stream",
          "name": "stdout",
          "text": [
            "frame number 256\n"
          ]
        },
        {
          "output_type": "stream",
          "name": "stderr",
          "text": [
            "\n",
            "0: 640x384 1 person, 1 surfboard, 160.9ms\n",
            "Speed: 3.3ms preprocess, 160.9ms inference, 1.5ms postprocess per image at shape (1, 3, 640, 384)\n"
          ]
        },
        {
          "output_type": "stream",
          "name": "stdout",
          "text": [
            "frame number 257\n"
          ]
        },
        {
          "output_type": "stream",
          "name": "stderr",
          "text": [
            "\n",
            "0: 640x384 1 person, 1 surfboard, 166.9ms\n",
            "Speed: 3.5ms preprocess, 166.9ms inference, 1.7ms postprocess per image at shape (1, 3, 640, 384)\n"
          ]
        },
        {
          "output_type": "stream",
          "name": "stdout",
          "text": [
            "frame number 258\n"
          ]
        },
        {
          "output_type": "stream",
          "name": "stderr",
          "text": [
            "\n",
            "0: 640x384 1 person, 1 surfboard, 165.4ms\n",
            "Speed: 3.2ms preprocess, 165.4ms inference, 1.4ms postprocess per image at shape (1, 3, 640, 384)\n"
          ]
        },
        {
          "output_type": "stream",
          "name": "stdout",
          "text": [
            "frame number 259\n"
          ]
        },
        {
          "output_type": "stream",
          "name": "stderr",
          "text": [
            "\n",
            "0: 640x384 1 person, 1 surfboard, 165.8ms\n",
            "Speed: 3.0ms preprocess, 165.8ms inference, 1.5ms postprocess per image at shape (1, 3, 640, 384)\n"
          ]
        },
        {
          "output_type": "stream",
          "name": "stdout",
          "text": [
            "frame number 260\n"
          ]
        },
        {
          "output_type": "stream",
          "name": "stderr",
          "text": [
            "\n",
            "0: 640x384 1 person, 1 surfboard, 164.9ms\n",
            "Speed: 3.5ms preprocess, 164.9ms inference, 1.5ms postprocess per image at shape (1, 3, 640, 384)\n"
          ]
        },
        {
          "output_type": "stream",
          "name": "stdout",
          "text": [
            "frame number 261\n"
          ]
        },
        {
          "output_type": "stream",
          "name": "stderr",
          "text": [
            "\n",
            "0: 640x384 1 person, 1 surfboard, 161.3ms\n",
            "Speed: 3.3ms preprocess, 161.3ms inference, 1.5ms postprocess per image at shape (1, 3, 640, 384)\n"
          ]
        },
        {
          "output_type": "stream",
          "name": "stdout",
          "text": [
            "frame number 262\n"
          ]
        },
        {
          "output_type": "stream",
          "name": "stderr",
          "text": [
            "\n",
            "0: 640x384 1 person, 1 surfboard, 155.6ms\n",
            "Speed: 5.3ms preprocess, 155.6ms inference, 1.7ms postprocess per image at shape (1, 3, 640, 384)\n"
          ]
        },
        {
          "output_type": "stream",
          "name": "stdout",
          "text": [
            "frame number 263\n"
          ]
        },
        {
          "output_type": "stream",
          "name": "stderr",
          "text": [
            "\n",
            "0: 640x384 1 person, 1 surfboard, 167.0ms\n",
            "Speed: 4.2ms preprocess, 167.0ms inference, 1.7ms postprocess per image at shape (1, 3, 640, 384)\n"
          ]
        },
        {
          "output_type": "stream",
          "name": "stdout",
          "text": [
            "frame number 264\n"
          ]
        },
        {
          "output_type": "stream",
          "name": "stderr",
          "text": [
            "\n",
            "0: 640x384 1 person, 1 surfboard, 174.1ms\n",
            "Speed: 3.5ms preprocess, 174.1ms inference, 1.6ms postprocess per image at shape (1, 3, 640, 384)\n"
          ]
        },
        {
          "output_type": "stream",
          "name": "stdout",
          "text": [
            "frame number 265\n"
          ]
        },
        {
          "output_type": "stream",
          "name": "stderr",
          "text": [
            "\n",
            "0: 640x384 1 person, 1 surfboard, 166.0ms\n",
            "Speed: 3.5ms preprocess, 166.0ms inference, 1.5ms postprocess per image at shape (1, 3, 640, 384)\n"
          ]
        },
        {
          "output_type": "stream",
          "name": "stdout",
          "text": [
            "frame number 266\n"
          ]
        },
        {
          "output_type": "stream",
          "name": "stderr",
          "text": [
            "\n",
            "0: 640x384 1 person, 2 surfboards, 155.4ms\n",
            "Speed: 3.1ms preprocess, 155.4ms inference, 1.4ms postprocess per image at shape (1, 3, 640, 384)\n"
          ]
        },
        {
          "output_type": "stream",
          "name": "stdout",
          "text": [
            "frame number 267\n",
            "frame number 268\n"
          ]
        },
        {
          "output_type": "stream",
          "name": "stderr",
          "text": [
            "\n",
            "0: 640x384 1 person, 1 surfboard, 154.6ms\n",
            "Speed: 3.3ms preprocess, 154.6ms inference, 1.5ms postprocess per image at shape (1, 3, 640, 384)\n",
            "\n",
            "0: 640x384 1 person, 2 surfboards, 161.1ms\n",
            "Speed: 3.7ms preprocess, 161.1ms inference, 1.4ms postprocess per image at shape (1, 3, 640, 384)\n"
          ]
        },
        {
          "output_type": "stream",
          "name": "stdout",
          "text": [
            "frame number 269\n"
          ]
        },
        {
          "output_type": "stream",
          "name": "stderr",
          "text": [
            "\n",
            "0: 640x384 1 person, 1 surfboard, 155.9ms\n",
            "Speed: 3.0ms preprocess, 155.9ms inference, 1.5ms postprocess per image at shape (1, 3, 640, 384)\n"
          ]
        },
        {
          "output_type": "stream",
          "name": "stdout",
          "text": [
            "frame number 270\n",
            "frame number"
          ]
        },
        {
          "output_type": "stream",
          "name": "stderr",
          "text": [
            "\n",
            "0: 640x384 1 person, 1 surfboard, 157.9ms\n",
            "Speed: 3.6ms preprocess, 157.9ms inference, 1.6ms postprocess per image at shape (1, 3, 640, 384)\n"
          ]
        },
        {
          "output_type": "stream",
          "name": "stdout",
          "text": [
            " 271\n",
            "frame number"
          ]
        },
        {
          "output_type": "stream",
          "name": "stderr",
          "text": [
            "\n",
            "0: 640x384 1 person, 1 surfboard, 162.4ms\n",
            "Speed: 3.0ms preprocess, 162.4ms inference, 1.4ms postprocess per image at shape (1, 3, 640, 384)\n"
          ]
        },
        {
          "output_type": "stream",
          "name": "stdout",
          "text": [
            " 272\n"
          ]
        },
        {
          "output_type": "stream",
          "name": "stderr",
          "text": [
            "\n",
            "0: 640x384 1 person, 1 surfboard, 185.6ms\n",
            "Speed: 3.5ms preprocess, 185.6ms inference, 1.7ms postprocess per image at shape (1, 3, 640, 384)\n"
          ]
        },
        {
          "output_type": "stream",
          "name": "stdout",
          "text": [
            "frame number 273\n"
          ]
        },
        {
          "output_type": "stream",
          "name": "stderr",
          "text": [
            "\n"
          ]
        },
        {
          "output_type": "stream",
          "name": "stdout",
          "text": [
            "frame number 274\n"
          ]
        },
        {
          "output_type": "stream",
          "name": "stderr",
          "text": [
            "0: 640x384 1 person, 1 surfboard, 275.7ms\n",
            "Speed: 2.8ms preprocess, 275.7ms inference, 2.0ms postprocess per image at shape (1, 3, 640, 384)\n",
            "\n"
          ]
        },
        {
          "output_type": "stream",
          "name": "stdout",
          "text": [
            "frame number 275\n"
          ]
        },
        {
          "output_type": "stream",
          "name": "stderr",
          "text": [
            "0: 640x384 1 person, 1 surfboard, 275.1ms\n",
            "Speed: 2.9ms preprocess, 275.1ms inference, 2.1ms postprocess per image at shape (1, 3, 640, 384)\n",
            "\n"
          ]
        },
        {
          "output_type": "stream",
          "name": "stdout",
          "text": [
            "frame number 276\n"
          ]
        },
        {
          "output_type": "stream",
          "name": "stderr",
          "text": [
            "0: 640x384 1 person, 1 surfboard, 254.9ms\n",
            "Speed: 3.6ms preprocess, 254.9ms inference, 2.2ms postprocess per image at shape (1, 3, 640, 384)\n",
            "\n"
          ]
        },
        {
          "output_type": "stream",
          "name": "stdout",
          "text": [
            "frame number 277\n"
          ]
        },
        {
          "output_type": "stream",
          "name": "stderr",
          "text": [
            "0: 640x384 1 person, 1 surfboard, 270.6ms\n",
            "Speed: 3.4ms preprocess, 270.6ms inference, 2.0ms postprocess per image at shape (1, 3, 640, 384)\n",
            "\n"
          ]
        },
        {
          "output_type": "stream",
          "name": "stdout",
          "text": [
            "frame number 278\n"
          ]
        },
        {
          "output_type": "stream",
          "name": "stderr",
          "text": [
            "0: 640x384 1 person, 1 surfboard, 265.4ms\n",
            "Speed: 3.3ms preprocess, 265.4ms inference, 2.2ms postprocess per image at shape (1, 3, 640, 384)\n",
            "\n"
          ]
        },
        {
          "output_type": "stream",
          "name": "stdout",
          "text": [
            "frame number 279\n"
          ]
        },
        {
          "output_type": "stream",
          "name": "stderr",
          "text": [
            "0: 640x384 1 person, 1 surfboard, 243.5ms\n",
            "Speed: 3.0ms preprocess, 243.5ms inference, 1.8ms postprocess per image at shape (1, 3, 640, 384)\n",
            "\n"
          ]
        },
        {
          "output_type": "stream",
          "name": "stdout",
          "text": [
            "frame number 280\n"
          ]
        },
        {
          "output_type": "stream",
          "name": "stderr",
          "text": [
            "0: 640x384 1 person, 1 surfboard, 270.6ms\n",
            "Speed: 3.4ms preprocess, 270.6ms inference, 1.9ms postprocess per image at shape (1, 3, 640, 384)\n",
            "\n"
          ]
        },
        {
          "output_type": "stream",
          "name": "stdout",
          "text": [
            "frame number 281\n"
          ]
        },
        {
          "output_type": "stream",
          "name": "stderr",
          "text": [
            "0: 640x384 1 person, 1 surfboard, 246.1ms\n",
            "Speed: 2.9ms preprocess, 246.1ms inference, 2.2ms postprocess per image at shape (1, 3, 640, 384)\n",
            "\n"
          ]
        },
        {
          "output_type": "stream",
          "name": "stdout",
          "text": [
            "frame number 282\n"
          ]
        },
        {
          "output_type": "stream",
          "name": "stderr",
          "text": [
            "0: 640x384 1 person, 1 surfboard, 262.8ms\n",
            "Speed: 6.7ms preprocess, 262.8ms inference, 2.0ms postprocess per image at shape (1, 3, 640, 384)\n",
            "\n"
          ]
        },
        {
          "output_type": "stream",
          "name": "stdout",
          "text": [
            "frame number 283\n"
          ]
        },
        {
          "output_type": "stream",
          "name": "stderr",
          "text": [
            "0: 640x384 1 person, 1 surfboard, 258.4ms\n",
            "Speed: 3.2ms preprocess, 258.4ms inference, 2.3ms postprocess per image at shape (1, 3, 640, 384)\n",
            "\n"
          ]
        },
        {
          "output_type": "stream",
          "name": "stdout",
          "text": [
            "frame number 284\n"
          ]
        },
        {
          "output_type": "stream",
          "name": "stderr",
          "text": [
            "0: 640x384 1 person, 1 surfboard, 249.5ms\n",
            "Speed: 3.6ms preprocess, 249.5ms inference, 2.4ms postprocess per image at shape (1, 3, 640, 384)\n",
            "\n"
          ]
        },
        {
          "output_type": "stream",
          "name": "stdout",
          "text": [
            "frame number 285\n"
          ]
        },
        {
          "output_type": "stream",
          "name": "stderr",
          "text": [
            "0: 640x384 1 person, 1 bear, 1 surfboard, 250.5ms\n",
            "Speed: 3.6ms preprocess, 250.5ms inference, 2.3ms postprocess per image at shape (1, 3, 640, 384)\n",
            "\n"
          ]
        },
        {
          "output_type": "stream",
          "name": "stdout",
          "text": [
            "frame number 286\n"
          ]
        },
        {
          "output_type": "stream",
          "name": "stderr",
          "text": [
            "0: 640x384 1 person, 1 surfboard, 248.2ms\n",
            "Speed: 5.3ms preprocess, 248.2ms inference, 2.1ms postprocess per image at shape (1, 3, 640, 384)\n",
            "\n",
            "0: 640x384 1 person, 2 surfboards, 177.8ms\n",
            "Speed: 4.4ms preprocess, 177.8ms inference, 1.5ms postprocess per image at shape (1, 3, 640, 384)\n"
          ]
        },
        {
          "output_type": "stream",
          "name": "stdout",
          "text": [
            "frame number 287\n"
          ]
        },
        {
          "output_type": "stream",
          "name": "stderr",
          "text": [
            "\n",
            "0: 640x384 1 person, 1 surfboard, 164.7ms\n",
            "Speed: 3.3ms preprocess, 164.7ms inference, 2.6ms postprocess per image at shape (1, 3, 640, 384)\n"
          ]
        },
        {
          "output_type": "stream",
          "name": "stdout",
          "text": [
            "frame number 288\n"
          ]
        },
        {
          "output_type": "stream",
          "name": "stderr",
          "text": [
            "\n",
            "0: 640x384 1 person, 1 surfboard, 152.9ms\n",
            "Speed: 3.1ms preprocess, 152.9ms inference, 1.7ms postprocess per image at shape (1, 3, 640, 384)\n",
            "\n"
          ]
        },
        {
          "output_type": "stream",
          "name": "stdout",
          "text": [
            "frame number 289\n",
            "frame number 290\n"
          ]
        },
        {
          "output_type": "stream",
          "name": "stderr",
          "text": [
            "0: 640x384 1 person, 1 surfboard, 151.1ms\n",
            "Speed: 2.9ms preprocess, 151.1ms inference, 1.3ms postprocess per image at shape (1, 3, 640, 384)\n",
            "\n",
            "0: 640x384 1 person, 1 surfboard, 153.6ms\n",
            "Speed: 2.9ms preprocess, 153.6ms inference, 1.4ms postprocess per image at shape (1, 3, 640, 384)\n"
          ]
        },
        {
          "output_type": "stream",
          "name": "stdout",
          "text": [
            "frame number 291\n",
            "frame number 292\n"
          ]
        },
        {
          "output_type": "stream",
          "name": "stderr",
          "text": [
            "\n",
            "0: 640x384 1 person, 1 surfboard, 159.7ms\n",
            "Speed: 3.1ms preprocess, 159.7ms inference, 1.7ms postprocess per image at shape (1, 3, 640, 384)\n",
            "\n",
            "0: 640x384 1 person, 1 surfboard, 149.1ms\n",
            "Speed: 2.9ms preprocess, 149.1ms inference, 1.4ms postprocess per image at shape (1, 3, 640, 384)\n",
            "\n"
          ]
        },
        {
          "output_type": "stream",
          "name": "stdout",
          "text": [
            "frame number 293\n",
            "frame number 294\n"
          ]
        },
        {
          "output_type": "stream",
          "name": "stderr",
          "text": [
            "0: 640x384 1 person, 1 surfboard, 157.4ms\n",
            "Speed: 3.2ms preprocess, 157.4ms inference, 1.7ms postprocess per image at shape (1, 3, 640, 384)\n",
            "\n",
            "0: 640x384 1 person, 1 surfboard, 151.7ms\n",
            "Speed: 3.7ms preprocess, 151.7ms inference, 1.4ms postprocess per image at shape (1, 3, 640, 384)\n"
          ]
        },
        {
          "output_type": "stream",
          "name": "stdout",
          "text": [
            "frame number 295\n",
            "frame number"
          ]
        },
        {
          "output_type": "stream",
          "name": "stderr",
          "text": [
            "\n",
            "0: 640x384 1 person, 1 surfboard, 155.5ms\n",
            "Speed: 3.4ms preprocess, 155.5ms inference, 1.4ms postprocess per image at shape (1, 3, 640, 384)\n"
          ]
        },
        {
          "output_type": "stream",
          "name": "stdout",
          "text": [
            " 296\n",
            "frame number 297\n"
          ]
        },
        {
          "output_type": "stream",
          "name": "stderr",
          "text": [
            "\n",
            "0: 640x384 1 person, 1 surfboard, 175.0ms\n",
            "Speed: 3.2ms preprocess, 175.0ms inference, 1.4ms postprocess per image at shape (1, 3, 640, 384)\n",
            "\n",
            "0: 640x384 1 person, 1 surfboard, 165.9ms\n",
            "Speed: 3.3ms preprocess, 165.9ms inference, 1.6ms postprocess per image at shape (1, 3, 640, 384)\n"
          ]
        },
        {
          "output_type": "stream",
          "name": "stdout",
          "text": [
            "frame number 298\n"
          ]
        },
        {
          "output_type": "stream",
          "name": "stderr",
          "text": [
            "\n",
            "0: 640x384 1 person, 1 surfboard, 160.8ms\n",
            "Speed: 3.3ms preprocess, 160.8ms inference, 1.6ms postprocess per image at shape (1, 3, 640, 384)\n"
          ]
        },
        {
          "output_type": "stream",
          "name": "stdout",
          "text": [
            "frame number 299\n"
          ]
        },
        {
          "output_type": "stream",
          "name": "stderr",
          "text": [
            "\n",
            "0: 640x384 1 person, 1 surfboard, 160.5ms\n",
            "Speed: 4.0ms preprocess, 160.5ms inference, 1.6ms postprocess per image at shape (1, 3, 640, 384)\n"
          ]
        },
        {
          "output_type": "stream",
          "name": "stdout",
          "text": [
            "frame number 300\n"
          ]
        },
        {
          "output_type": "stream",
          "name": "stderr",
          "text": [
            "\n",
            "0: 640x384 1 person, 1 surfboard, 161.1ms\n",
            "Speed: 8.4ms preprocess, 161.1ms inference, 1.5ms postprocess per image at shape (1, 3, 640, 384)\n"
          ]
        },
        {
          "output_type": "stream",
          "name": "stdout",
          "text": [
            "frame number 301\n"
          ]
        },
        {
          "output_type": "stream",
          "name": "stderr",
          "text": [
            "\n",
            "0: 640x384 1 person, 1 surfboard, 174.6ms\n",
            "Speed: 3.6ms preprocess, 174.6ms inference, 1.5ms postprocess per image at shape (1, 3, 640, 384)\n"
          ]
        },
        {
          "output_type": "stream",
          "name": "stdout",
          "text": [
            "frame number 302\n"
          ]
        },
        {
          "output_type": "stream",
          "name": "stderr",
          "text": [
            "\n",
            "0: 640x384 1 person, 1 surfboard, 163.3ms\n",
            "Speed: 3.1ms preprocess, 163.3ms inference, 1.7ms postprocess per image at shape (1, 3, 640, 384)\n"
          ]
        },
        {
          "output_type": "stream",
          "name": "stdout",
          "text": [
            "frame number 303\n"
          ]
        },
        {
          "output_type": "stream",
          "name": "stderr",
          "text": [
            "\n",
            "0: 640x384 1 person, 2 surfboards, 156.7ms\n",
            "Speed: 3.4ms preprocess, 156.7ms inference, 1.8ms postprocess per image at shape (1, 3, 640, 384)\n"
          ]
        },
        {
          "output_type": "stream",
          "name": "stdout",
          "text": [
            "frame number 304\n"
          ]
        },
        {
          "output_type": "stream",
          "name": "stderr",
          "text": [
            "\n",
            "0: 640x384 1 person, 2 surfboards, 167.2ms\n",
            "Speed: 3.8ms preprocess, 167.2ms inference, 1.7ms postprocess per image at shape (1, 3, 640, 384)\n"
          ]
        },
        {
          "output_type": "stream",
          "name": "stdout",
          "text": [
            "frame number 305\n"
          ]
        },
        {
          "output_type": "stream",
          "name": "stderr",
          "text": [
            "\n",
            "0: 640x384 1 person, 1 surfboard, 161.8ms\n",
            "Speed: 8.6ms preprocess, 161.8ms inference, 1.5ms postprocess per image at shape (1, 3, 640, 384)\n"
          ]
        },
        {
          "output_type": "stream",
          "name": "stdout",
          "text": [
            "frame number 306\n"
          ]
        },
        {
          "output_type": "stream",
          "name": "stderr",
          "text": [
            "\n",
            "0: 640x384 1 person, 2 surfboards, 161.3ms\n",
            "Speed: 3.8ms preprocess, 161.3ms inference, 1.5ms postprocess per image at shape (1, 3, 640, 384)\n"
          ]
        },
        {
          "output_type": "stream",
          "name": "stdout",
          "text": [
            "frame number 307\n"
          ]
        },
        {
          "output_type": "stream",
          "name": "stderr",
          "text": [
            "\n",
            "0: 640x384 1 person, 2 surfboards, 168.1ms\n",
            "Speed: 3.4ms preprocess, 168.1ms inference, 1.6ms postprocess per image at shape (1, 3, 640, 384)\n"
          ]
        },
        {
          "output_type": "stream",
          "name": "stdout",
          "text": [
            "frame number 308\n"
          ]
        },
        {
          "output_type": "stream",
          "name": "stderr",
          "text": [
            "\n",
            "0: 640x384 1 person, 1 surfboard, 156.0ms\n",
            "Speed: 3.2ms preprocess, 156.0ms inference, 1.7ms postprocess per image at shape (1, 3, 640, 384)\n",
            "\n"
          ]
        },
        {
          "output_type": "stream",
          "name": "stdout",
          "text": [
            "frame number 309\n",
            "frame number 310\n"
          ]
        },
        {
          "output_type": "stream",
          "name": "stderr",
          "text": [
            "0: 640x384 1 person, 2 surfboards, 161.6ms\n",
            "Speed: 3.5ms preprocess, 161.6ms inference, 1.7ms postprocess per image at shape (1, 3, 640, 384)\n",
            "\n",
            "0: 640x384 1 person, 1 surfboard, 154.6ms\n",
            "Speed: 3.9ms preprocess, 154.6ms inference, 1.5ms postprocess per image at shape (1, 3, 640, 384)\n"
          ]
        },
        {
          "output_type": "stream",
          "name": "stdout",
          "text": [
            "frame number 311\n"
          ]
        },
        {
          "output_type": "stream",
          "name": "stderr",
          "text": [
            "\n",
            "0: 640x384 1 person, 1 surfboard, 165.5ms\n",
            "Speed: 3.7ms preprocess, 165.5ms inference, 1.5ms postprocess per image at shape (1, 3, 640, 384)\n"
          ]
        },
        {
          "output_type": "stream",
          "name": "stdout",
          "text": [
            "frame number 312\n"
          ]
        },
        {
          "output_type": "stream",
          "name": "stderr",
          "text": [
            "\n",
            "0: 640x384 1 person, 2 surfboards, 156.2ms\n",
            "Speed: 4.6ms preprocess, 156.2ms inference, 1.5ms postprocess per image at shape (1, 3, 640, 384)\n"
          ]
        },
        {
          "output_type": "stream",
          "name": "stdout",
          "text": [
            "frame number 313\n"
          ]
        },
        {
          "output_type": "stream",
          "name": "stderr",
          "text": [
            "\n",
            "0: 640x384 1 person, 2 surfboards, 166.3ms\n",
            "Speed: 4.8ms preprocess, 166.3ms inference, 1.6ms postprocess per image at shape (1, 3, 640, 384)\n"
          ]
        },
        {
          "output_type": "stream",
          "name": "stdout",
          "text": [
            "frame number 314\n"
          ]
        },
        {
          "output_type": "stream",
          "name": "stderr",
          "text": [
            "\n",
            "0: 640x384 1 person, 1 surfboard, 157.3ms\n",
            "Speed: 3.7ms preprocess, 157.3ms inference, 1.8ms postprocess per image at shape (1, 3, 640, 384)\n"
          ]
        },
        {
          "output_type": "stream",
          "name": "stdout",
          "text": [
            "frame number 315\n"
          ]
        },
        {
          "output_type": "stream",
          "name": "stderr",
          "text": [
            "\n",
            "0: 640x384 1 person, 1 surfboard, 174.7ms\n",
            "Speed: 3.6ms preprocess, 174.7ms inference, 1.5ms postprocess per image at shape (1, 3, 640, 384)\n"
          ]
        },
        {
          "output_type": "stream",
          "name": "stdout",
          "text": [
            "frame number 316\n"
          ]
        },
        {
          "output_type": "stream",
          "name": "stderr",
          "text": [
            "\n",
            "0: 640x384 1 person, 2 surfboards, 164.1ms\n",
            "Speed: 3.4ms preprocess, 164.1ms inference, 1.7ms postprocess per image at shape (1, 3, 640, 384)\n"
          ]
        },
        {
          "output_type": "stream",
          "name": "stdout",
          "text": [
            "frame number 317\n"
          ]
        },
        {
          "output_type": "stream",
          "name": "stderr",
          "text": [
            "\n",
            "0: 640x384 2 persons, 2 surfboards, 156.0ms\n",
            "Speed: 3.7ms preprocess, 156.0ms inference, 1.5ms postprocess per image at shape (1, 3, 640, 384)\n"
          ]
        },
        {
          "output_type": "stream",
          "name": "stdout",
          "text": [
            "frame number 318\n"
          ]
        },
        {
          "output_type": "stream",
          "name": "stderr",
          "text": [
            "\n",
            "0: 640x384 1 person, 2 surfboards, 153.2ms\n",
            "Speed: 3.2ms preprocess, 153.2ms inference, 1.6ms postprocess per image at shape (1, 3, 640, 384)\n"
          ]
        },
        {
          "output_type": "stream",
          "name": "stdout",
          "text": [
            "frame number 319\n"
          ]
        },
        {
          "output_type": "stream",
          "name": "stderr",
          "text": [
            "\n",
            "0: 640x384 1 person, 3 surfboards, 151.5ms\n",
            "Speed: 3.0ms preprocess, 151.5ms inference, 1.6ms postprocess per image at shape (1, 3, 640, 384)\n",
            "\n"
          ]
        },
        {
          "output_type": "stream",
          "name": "stdout",
          "text": [
            "frame number 320\n",
            "frame number 321\n"
          ]
        },
        {
          "output_type": "stream",
          "name": "stderr",
          "text": [
            "0: 640x384 1 person, 3 surfboards, 393.2ms\n",
            "Speed: 2.8ms preprocess, 393.2ms inference, 1.5ms postprocess per image at shape (1, 3, 640, 384)\n",
            "\n",
            "0: 640x384 1 person, 1 surfboard, 174.7ms\n",
            "Speed: 7.6ms preprocess, 174.7ms inference, 1.8ms postprocess per image at shape (1, 3, 640, 384)\n"
          ]
        },
        {
          "output_type": "stream",
          "name": "stdout",
          "text": [
            "frame number 322\n"
          ]
        },
        {
          "output_type": "stream",
          "name": "stderr",
          "text": [
            "\n",
            "0: 640x384 2 persons, 1 surfboard, 164.7ms\n",
            "Speed: 3.7ms preprocess, 164.7ms inference, 1.6ms postprocess per image at shape (1, 3, 640, 384)\n"
          ]
        },
        {
          "output_type": "stream",
          "name": "stdout",
          "text": [
            "frame number 323\n"
          ]
        },
        {
          "output_type": "stream",
          "name": "stderr",
          "text": [
            "\n"
          ]
        },
        {
          "output_type": "stream",
          "name": "stdout",
          "text": [
            "frame number 324\n"
          ]
        },
        {
          "output_type": "stream",
          "name": "stderr",
          "text": [
            "0: 640x384 1 person, 1 surfboard, 443.9ms\n",
            "Speed: 3.4ms preprocess, 443.9ms inference, 1.5ms postprocess per image at shape (1, 3, 640, 384)\n",
            "\n",
            "0: 640x384 1 person, 1 surfboard, 162.5ms\n",
            "Speed: 6.4ms preprocess, 162.5ms inference, 1.5ms postprocess per image at shape (1, 3, 640, 384)\n"
          ]
        },
        {
          "output_type": "stream",
          "name": "stdout",
          "text": [
            "frame number 325\n"
          ]
        },
        {
          "output_type": "stream",
          "name": "stderr",
          "text": [
            "\n",
            "0: 640x384 1 person, 1 surfboard, 162.1ms\n",
            "Speed: 3.5ms preprocess, 162.1ms inference, 1.7ms postprocess per image at shape (1, 3, 640, 384)\n"
          ]
        },
        {
          "output_type": "stream",
          "name": "stdout",
          "text": [
            "frame number 326\n"
          ]
        },
        {
          "output_type": "stream",
          "name": "stderr",
          "text": [
            "\n"
          ]
        },
        {
          "output_type": "stream",
          "name": "stdout",
          "text": [
            "frame number 327\n"
          ]
        },
        {
          "output_type": "stream",
          "name": "stderr",
          "text": [
            "0: 640x384 1 person, 1 surfboard, 437.7ms\n",
            "Speed: 3.9ms preprocess, 437.7ms inference, 1.5ms postprocess per image at shape (1, 3, 640, 384)\n",
            "\n",
            "0: 640x384 1 person, 1 surfboard, 176.4ms\n",
            "Speed: 3.5ms preprocess, 176.4ms inference, 1.8ms postprocess per image at shape (1, 3, 640, 384)\n"
          ]
        },
        {
          "output_type": "stream",
          "name": "stdout",
          "text": [
            "frame number 328\n"
          ]
        },
        {
          "output_type": "stream",
          "name": "stderr",
          "text": [
            "\n",
            "0: 640x384 1 person, 1 surfboard, 166.3ms\n",
            "Speed: 3.7ms preprocess, 166.3ms inference, 2.2ms postprocess per image at shape (1, 3, 640, 384)\n"
          ]
        },
        {
          "output_type": "stream",
          "name": "stdout",
          "text": [
            "frame number 329\n"
          ]
        },
        {
          "output_type": "stream",
          "name": "stderr",
          "text": [
            "\n"
          ]
        },
        {
          "output_type": "stream",
          "name": "stdout",
          "text": [
            "frame number 330\n"
          ]
        },
        {
          "output_type": "stream",
          "name": "stderr",
          "text": [
            "0: 640x384 1 person, 1 surfboard, 215.5ms\n",
            "Speed: 3.2ms preprocess, 215.5ms inference, 2.2ms postprocess per image at shape (1, 3, 640, 384)\n",
            "\n"
          ]
        },
        {
          "output_type": "stream",
          "name": "stdout",
          "text": [
            "frame number 331\n"
          ]
        },
        {
          "output_type": "stream",
          "name": "stderr",
          "text": [
            "0: 640x384 1 person, 1 surfboard, 249.4ms\n",
            "Speed: 3.4ms preprocess, 249.4ms inference, 2.0ms postprocess per image at shape (1, 3, 640, 384)\n",
            "\n"
          ]
        },
        {
          "output_type": "stream",
          "name": "stdout",
          "text": [
            "frame number 332\n"
          ]
        },
        {
          "output_type": "stream",
          "name": "stderr",
          "text": [
            "0: 640x384 1 person, 1 surfboard, 255.3ms\n",
            "Speed: 3.6ms preprocess, 255.3ms inference, 2.5ms postprocess per image at shape (1, 3, 640, 384)\n",
            "\n"
          ]
        },
        {
          "output_type": "stream",
          "name": "stdout",
          "text": [
            "frame number 333\n"
          ]
        },
        {
          "output_type": "stream",
          "name": "stderr",
          "text": [
            "0: 640x384 1 person, 1 surfboard, 266.7ms\n",
            "Speed: 6.5ms preprocess, 266.7ms inference, 2.0ms postprocess per image at shape (1, 3, 640, 384)\n",
            "\n"
          ]
        },
        {
          "output_type": "stream",
          "name": "stdout",
          "text": [
            "frame number 334\n"
          ]
        },
        {
          "output_type": "stream",
          "name": "stderr",
          "text": [
            "0: 640x384 1 person, 1 surfboard, 255.8ms\n",
            "Speed: 3.4ms preprocess, 255.8ms inference, 2.0ms postprocess per image at shape (1, 3, 640, 384)\n",
            "\n"
          ]
        },
        {
          "output_type": "stream",
          "name": "stdout",
          "text": [
            "frame number 335\n"
          ]
        },
        {
          "output_type": "stream",
          "name": "stderr",
          "text": [
            "0: 640x384 1 person, 1 surfboard, 272.1ms\n",
            "Speed: 6.3ms preprocess, 272.1ms inference, 2.1ms postprocess per image at shape (1, 3, 640, 384)\n",
            "\n"
          ]
        },
        {
          "output_type": "stream",
          "name": "stdout",
          "text": [
            "frame number 336\n"
          ]
        },
        {
          "output_type": "stream",
          "name": "stderr",
          "text": [
            "0: 640x384 1 person, 2 surfboards, 266.3ms\n",
            "Speed: 3.6ms preprocess, 266.3ms inference, 2.0ms postprocess per image at shape (1, 3, 640, 384)\n",
            "\n"
          ]
        },
        {
          "output_type": "stream",
          "name": "stdout",
          "text": [
            "frame number 337\n"
          ]
        },
        {
          "output_type": "stream",
          "name": "stderr",
          "text": [
            "0: 640x384 1 person, 1 surfboard, 243.1ms\n",
            "Speed: 3.3ms preprocess, 243.1ms inference, 2.1ms postprocess per image at shape (1, 3, 640, 384)\n",
            "\n"
          ]
        },
        {
          "output_type": "stream",
          "name": "stdout",
          "text": [
            "frame number 338\n"
          ]
        },
        {
          "output_type": "stream",
          "name": "stderr",
          "text": [
            "0: 640x384 1 person, 2 surfboards, 253.5ms\n",
            "Speed: 3.2ms preprocess, 253.5ms inference, 2.1ms postprocess per image at shape (1, 3, 640, 384)\n",
            "\n"
          ]
        },
        {
          "output_type": "stream",
          "name": "stdout",
          "text": [
            "frame number 339\n"
          ]
        },
        {
          "output_type": "stream",
          "name": "stderr",
          "text": [
            "0: 640x384 1 person, 2 surfboards, 255.7ms\n",
            "Speed: 3.4ms preprocess, 255.7ms inference, 2.1ms postprocess per image at shape (1, 3, 640, 384)\n",
            "\n"
          ]
        },
        {
          "output_type": "stream",
          "name": "stdout",
          "text": [
            "frame number 340\n"
          ]
        },
        {
          "output_type": "stream",
          "name": "stderr",
          "text": [
            "0: 640x384 1 person, 2 surfboards, 250.5ms\n",
            "Speed: 3.4ms preprocess, 250.5ms inference, 2.3ms postprocess per image at shape (1, 3, 640, 384)\n",
            "\n"
          ]
        },
        {
          "output_type": "stream",
          "name": "stdout",
          "text": [
            "frame number 341\n"
          ]
        },
        {
          "output_type": "stream",
          "name": "stderr",
          "text": [
            "0: 640x384 1 person, 2 surfboards, 244.2ms\n",
            "Speed: 3.3ms preprocess, 244.2ms inference, 2.2ms postprocess per image at shape (1, 3, 640, 384)\n",
            "\n"
          ]
        },
        {
          "output_type": "stream",
          "name": "stdout",
          "text": [
            "frame number 342\n"
          ]
        },
        {
          "output_type": "stream",
          "name": "stderr",
          "text": [
            "0: 640x384 1 person, 1 surfboard, 251.5ms\n",
            "Speed: 4.6ms preprocess, 251.5ms inference, 2.3ms postprocess per image at shape (1, 3, 640, 384)\n",
            "\n"
          ]
        },
        {
          "output_type": "stream",
          "name": "stdout",
          "text": [
            "frame number 343\n"
          ]
        },
        {
          "output_type": "stream",
          "name": "stderr",
          "text": [
            "0: 640x384 1 person, 2 surfboards, 253.6ms\n",
            "Speed: 3.7ms preprocess, 253.6ms inference, 2.3ms postprocess per image at shape (1, 3, 640, 384)\n",
            "\n"
          ]
        },
        {
          "output_type": "stream",
          "name": "stdout",
          "text": [
            "frame number 344\n"
          ]
        },
        {
          "output_type": "stream",
          "name": "stderr",
          "text": [
            "0: 640x384 1 person, 1 surfboard, 241.2ms\n",
            "Speed: 3.7ms preprocess, 241.2ms inference, 1.6ms postprocess per image at shape (1, 3, 640, 384)\n",
            "\n",
            "0: 640x384 1 person, 1 surfboard, 178.4ms\n",
            "Speed: 6.3ms preprocess, 178.4ms inference, 1.9ms postprocess per image at shape (1, 3, 640, 384)\n"
          ]
        },
        {
          "output_type": "stream",
          "name": "stdout",
          "text": [
            "frame number 345\n"
          ]
        },
        {
          "output_type": "stream",
          "name": "stderr",
          "text": [
            "\n",
            "0: 640x384 1 person, 1 surfboard, 171.8ms\n",
            "Speed: 3.5ms preprocess, 171.8ms inference, 1.7ms postprocess per image at shape (1, 3, 640, 384)\n"
          ]
        },
        {
          "output_type": "stream",
          "name": "stdout",
          "text": [
            "frame number 346\n"
          ]
        },
        {
          "output_type": "stream",
          "name": "stderr",
          "text": [
            "\n",
            "0: 640x384 1 person, 1 surfboard, 174.7ms\n",
            "Speed: 3.5ms preprocess, 174.7ms inference, 1.4ms postprocess per image at shape (1, 3, 640, 384)\n"
          ]
        },
        {
          "output_type": "stream",
          "name": "stdout",
          "text": [
            "frame number 347\n"
          ]
        },
        {
          "output_type": "stream",
          "name": "stderr",
          "text": [
            "\n",
            "0: 640x384 1 person, 1 surfboard, 160.7ms\n",
            "Speed: 3.3ms preprocess, 160.7ms inference, 1.5ms postprocess per image at shape (1, 3, 640, 384)\n"
          ]
        },
        {
          "output_type": "stream",
          "name": "stdout",
          "text": [
            "frame number 348\n"
          ]
        },
        {
          "output_type": "stream",
          "name": "stderr",
          "text": [
            "\n",
            "0: 640x384 1 person, 1 surfboard, 158.3ms\n",
            "Speed: 4.2ms preprocess, 158.3ms inference, 1.7ms postprocess per image at shape (1, 3, 640, 384)\n"
          ]
        },
        {
          "output_type": "stream",
          "name": "stdout",
          "text": [
            "frame number 349\n"
          ]
        },
        {
          "output_type": "stream",
          "name": "stderr",
          "text": [
            "\n",
            "0: 640x384 1 person, 1 surfboard, 170.8ms\n",
            "Speed: 4.0ms preprocess, 170.8ms inference, 1.5ms postprocess per image at shape (1, 3, 640, 384)\n"
          ]
        },
        {
          "output_type": "stream",
          "name": "stdout",
          "text": [
            "frame number 350\n"
          ]
        },
        {
          "output_type": "stream",
          "name": "stderr",
          "text": [
            "\n",
            "0: 640x384 1 person, 1 surfboard, 160.3ms\n",
            "Speed: 3.2ms preprocess, 160.3ms inference, 1.6ms postprocess per image at shape (1, 3, 640, 384)\n"
          ]
        },
        {
          "output_type": "stream",
          "name": "stdout",
          "text": [
            "frame number 351\n"
          ]
        },
        {
          "output_type": "stream",
          "name": "stderr",
          "text": [
            "\n",
            "0: 640x384 1 person, 1 surfboard, 160.6ms\n",
            "Speed: 3.3ms preprocess, 160.6ms inference, 1.6ms postprocess per image at shape (1, 3, 640, 384)\n"
          ]
        },
        {
          "output_type": "stream",
          "name": "stdout",
          "text": [
            "frame number 352\n"
          ]
        },
        {
          "output_type": "stream",
          "name": "stderr",
          "text": [
            "\n",
            "0: 640x384 2 kites, 157.2ms\n",
            "Speed: 3.6ms preprocess, 157.2ms inference, 1.7ms postprocess per image at shape (1, 3, 640, 384)\n"
          ]
        },
        {
          "output_type": "stream",
          "name": "stdout",
          "text": [
            "frame number 353\n"
          ]
        },
        {
          "output_type": "stream",
          "name": "stderr",
          "text": [
            "\n",
            "0: 640x384 2 kites, 155.5ms\n",
            "Speed: 3.9ms preprocess, 155.5ms inference, 1.4ms postprocess per image at shape (1, 3, 640, 384)\n"
          ]
        },
        {
          "output_type": "stream",
          "name": "stdout",
          "text": [
            "frame number 354\n",
            "frame number 355\n"
          ]
        },
        {
          "output_type": "stream",
          "name": "stderr",
          "text": [
            "\n",
            "0: 640x384 2 kites, 174.6ms\n",
            "Speed: 3.0ms preprocess, 174.6ms inference, 1.4ms postprocess per image at shape (1, 3, 640, 384)\n",
            "\n",
            "0: 640x384 2 kites, 168.0ms\n",
            "Speed: 3.0ms preprocess, 168.0ms inference, 1.7ms postprocess per image at shape (1, 3, 640, 384)\n"
          ]
        },
        {
          "output_type": "stream",
          "name": "stdout",
          "text": [
            "frame number 356\n"
          ]
        },
        {
          "output_type": "stream",
          "name": "stderr",
          "text": [
            "\n",
            "0: 640x384 2 kites, 171.9ms\n",
            "Speed: 3.5ms preprocess, 171.9ms inference, 1.6ms postprocess per image at shape (1, 3, 640, 384)\n"
          ]
        },
        {
          "output_type": "stream",
          "name": "stdout",
          "text": [
            "frame number 357\n"
          ]
        },
        {
          "output_type": "stream",
          "name": "stderr",
          "text": [
            "\n",
            "0: 640x384 2 kites, 153.0ms\n",
            "Speed: 3.1ms preprocess, 153.0ms inference, 1.4ms postprocess per image at shape (1, 3, 640, 384)\n",
            "\n"
          ]
        },
        {
          "output_type": "stream",
          "name": "stdout",
          "text": [
            "frame number 358\n",
            "frame number 359\n"
          ]
        },
        {
          "output_type": "stream",
          "name": "stderr",
          "text": [
            "0: 640x384 1 person, 1 kite, 157.8ms\n",
            "Speed: 4.7ms preprocess, 157.8ms inference, 1.4ms postprocess per image at shape (1, 3, 640, 384)\n",
            "\n",
            "0: 640x384 1 kite, 175.4ms\n",
            "Speed: 7.3ms preprocess, 175.4ms inference, 1.5ms postprocess per image at shape (1, 3, 640, 384)\n"
          ]
        },
        {
          "output_type": "stream",
          "name": "stdout",
          "text": [
            "frame number 360\n"
          ]
        },
        {
          "output_type": "stream",
          "name": "stderr",
          "text": [
            "\n",
            "0: 640x384 1 kite, 167.0ms\n",
            "Speed: 3.5ms preprocess, 167.0ms inference, 1.5ms postprocess per image at shape (1, 3, 640, 384)\n"
          ]
        },
        {
          "output_type": "stream",
          "name": "stdout",
          "text": [
            "frame number 361\n"
          ]
        },
        {
          "output_type": "stream",
          "name": "stderr",
          "text": [
            "\n",
            "0: 640x384 1 kite, 168.3ms\n",
            "Speed: 3.3ms preprocess, 168.3ms inference, 1.5ms postprocess per image at shape (1, 3, 640, 384)\n"
          ]
        },
        {
          "output_type": "stream",
          "name": "stdout",
          "text": [
            "frame number 362\n"
          ]
        },
        {
          "output_type": "stream",
          "name": "stderr",
          "text": [
            "\n",
            "0: 640x384 1 person, 1 kite, 161.6ms\n",
            "Speed: 3.8ms preprocess, 161.6ms inference, 1.7ms postprocess per image at shape (1, 3, 640, 384)\n"
          ]
        },
        {
          "output_type": "stream",
          "name": "stdout",
          "text": [
            "frame number 363\n"
          ]
        },
        {
          "output_type": "stream",
          "name": "stderr",
          "text": [
            "\n",
            "0: 640x384 1 person, 168.9ms\n",
            "Speed: 3.4ms preprocess, 168.9ms inference, 1.6ms postprocess per image at shape (1, 3, 640, 384)\n"
          ]
        },
        {
          "output_type": "stream",
          "name": "stdout",
          "text": [
            "frame number 364\n"
          ]
        },
        {
          "output_type": "stream",
          "name": "stderr",
          "text": [
            "\n",
            "0: 640x384 1 person, 168.0ms\n",
            "Speed: 3.5ms preprocess, 168.0ms inference, 1.6ms postprocess per image at shape (1, 3, 640, 384)\n"
          ]
        },
        {
          "output_type": "stream",
          "name": "stdout",
          "text": [
            "frame number 365\n"
          ]
        },
        {
          "output_type": "stream",
          "name": "stderr",
          "text": [
            "\n",
            "0: 640x384 1 person, 163.6ms\n",
            "Speed: 3.5ms preprocess, 163.6ms inference, 1.6ms postprocess per image at shape (1, 3, 640, 384)\n"
          ]
        },
        {
          "output_type": "stream",
          "name": "stdout",
          "text": [
            "frame number 366\n"
          ]
        },
        {
          "output_type": "stream",
          "name": "stderr",
          "text": [
            "\n",
            "0: 640x384 1 person, 165.0ms\n",
            "Speed: 3.3ms preprocess, 165.0ms inference, 1.7ms postprocess per image at shape (1, 3, 640, 384)\n"
          ]
        },
        {
          "output_type": "stream",
          "name": "stdout",
          "text": [
            "frame number 367\n"
          ]
        },
        {
          "output_type": "stream",
          "name": "stderr",
          "text": [
            "\n",
            "0: 640x384 1 person, 158.1ms\n",
            "Speed: 4.6ms preprocess, 158.1ms inference, 1.8ms postprocess per image at shape (1, 3, 640, 384)\n"
          ]
        },
        {
          "output_type": "stream",
          "name": "stdout",
          "text": [
            "frame number 368\n"
          ]
        },
        {
          "output_type": "stream",
          "name": "stderr",
          "text": [
            "\n",
            "0: 640x384 1 person, 171.8ms\n",
            "Speed: 4.1ms preprocess, 171.8ms inference, 2.1ms postprocess per image at shape (1, 3, 640, 384)\n"
          ]
        },
        {
          "output_type": "stream",
          "name": "stdout",
          "text": [
            "frame number 369\n"
          ]
        },
        {
          "output_type": "stream",
          "name": "stderr",
          "text": [
            "\n",
            "0: 640x384 1 person, 1 kite, 173.1ms\n",
            "Speed: 3.4ms preprocess, 173.1ms inference, 1.6ms postprocess per image at shape (1, 3, 640, 384)\n"
          ]
        },
        {
          "output_type": "stream",
          "name": "stdout",
          "text": [
            "frame number 370\n"
          ]
        },
        {
          "output_type": "stream",
          "name": "stderr",
          "text": [
            "\n",
            "0: 640x384 1 person, 1 kite, 167.0ms\n",
            "Speed: 3.9ms preprocess, 167.0ms inference, 1.5ms postprocess per image at shape (1, 3, 640, 384)\n"
          ]
        },
        {
          "output_type": "stream",
          "name": "stdout",
          "text": [
            "frame number 371\n"
          ]
        },
        {
          "output_type": "stream",
          "name": "stderr",
          "text": [
            "\n",
            "0: 640x384 1 person, 1 kite, 158.0ms\n",
            "Speed: 3.9ms preprocess, 158.0ms inference, 1.8ms postprocess per image at shape (1, 3, 640, 384)\n"
          ]
        },
        {
          "output_type": "stream",
          "name": "stdout",
          "text": [
            "frame number 372\n",
            "frame number"
          ]
        },
        {
          "output_type": "stream",
          "name": "stderr",
          "text": [
            "\n",
            "0: 640x384 1 person, 162.6ms\n",
            "Speed: 3.5ms preprocess, 162.6ms inference, 1.8ms postprocess per image at shape (1, 3, 640, 384)\n"
          ]
        },
        {
          "output_type": "stream",
          "name": "stdout",
          "text": [
            " 373\n"
          ]
        },
        {
          "output_type": "stream",
          "name": "stderr",
          "text": [
            "\n",
            "0: 640x384 1 person, 179.0ms\n",
            "Speed: 3.5ms preprocess, 179.0ms inference, 1.6ms postprocess per image at shape (1, 3, 640, 384)\n"
          ]
        },
        {
          "output_type": "stream",
          "name": "stdout",
          "text": [
            "frame number 374\n"
          ]
        },
        {
          "output_type": "stream",
          "name": "stderr",
          "text": [
            "\n",
            "0: 640x384 1 person, 153.8ms\n",
            "Speed: 3.4ms preprocess, 153.8ms inference, 1.9ms postprocess per image at shape (1, 3, 640, 384)\n"
          ]
        },
        {
          "output_type": "stream",
          "name": "stdout",
          "text": [
            "frame number 375\n",
            "frame number 376\n"
          ]
        },
        {
          "output_type": "stream",
          "name": "stderr",
          "text": [
            "\n",
            "0: 640x384 1 person, 171.7ms\n",
            "Speed: 7.8ms preprocess, 171.7ms inference, 1.6ms postprocess per image at shape (1, 3, 640, 384)\n",
            "\n",
            "0: 640x384 1 person, 170.1ms\n",
            "Speed: 3.4ms preprocess, 170.1ms inference, 1.7ms postprocess per image at shape (1, 3, 640, 384)\n"
          ]
        },
        {
          "output_type": "stream",
          "name": "stdout",
          "text": [
            "frame number 377\n"
          ]
        },
        {
          "output_type": "stream",
          "name": "stderr",
          "text": [
            "\n",
            "0: 640x384 1 kite, 177.6ms\n",
            "Speed: 3.5ms preprocess, 177.6ms inference, 1.5ms postprocess per image at shape (1, 3, 640, 384)\n"
          ]
        },
        {
          "output_type": "stream",
          "name": "stdout",
          "text": [
            "frame number 378\n"
          ]
        },
        {
          "output_type": "stream",
          "name": "stderr",
          "text": [
            "\n",
            "0: 640x384 2 kites, 175.8ms\n",
            "Speed: 3.5ms preprocess, 175.8ms inference, 1.5ms postprocess per image at shape (1, 3, 640, 384)\n"
          ]
        },
        {
          "output_type": "stream",
          "name": "stdout",
          "text": [
            "frame number 379\n"
          ]
        },
        {
          "output_type": "stream",
          "name": "stderr",
          "text": [
            "\n",
            "0: 640x384 1 kite, 171.3ms\n",
            "Speed: 3.5ms preprocess, 171.3ms inference, 1.6ms postprocess per image at shape (1, 3, 640, 384)\n"
          ]
        },
        {
          "output_type": "stream",
          "name": "stdout",
          "text": [
            "frame number 380\n"
          ]
        },
        {
          "output_type": "stream",
          "name": "stderr",
          "text": [
            "\n",
            "0: 640x384 1 kite, 178.0ms\n",
            "Speed: 4.5ms preprocess, 178.0ms inference, 1.5ms postprocess per image at shape (1, 3, 640, 384)\n"
          ]
        },
        {
          "output_type": "stream",
          "name": "stdout",
          "text": [
            "frame number 381\n"
          ]
        },
        {
          "output_type": "stream",
          "name": "stderr",
          "text": [
            "\n",
            "0: 640x384 1 kite, 164.8ms\n",
            "Speed: 3.3ms preprocess, 164.8ms inference, 1.5ms postprocess per image at shape (1, 3, 640, 384)\n"
          ]
        },
        {
          "output_type": "stream",
          "name": "stdout",
          "text": [
            "frame number 382\n"
          ]
        },
        {
          "output_type": "stream",
          "name": "stderr",
          "text": [
            "\n",
            "0: 640x384 (no detections), 171.8ms\n",
            "Speed: 3.7ms preprocess, 171.8ms inference, 0.9ms postprocess per image at shape (1, 3, 640, 384)\n"
          ]
        },
        {
          "output_type": "stream",
          "name": "stdout",
          "text": [
            "frame number 383\n"
          ]
        },
        {
          "output_type": "stream",
          "name": "stderr",
          "text": [
            "\n",
            "0: 640x384 (no detections), 180.5ms\n",
            "Speed: 3.6ms preprocess, 180.5ms inference, 1.2ms postprocess per image at shape (1, 3, 640, 384)\n"
          ]
        },
        {
          "output_type": "stream",
          "name": "stdout",
          "text": [
            "frame number 384\n"
          ]
        },
        {
          "output_type": "stream",
          "name": "stderr",
          "text": [
            "\n",
            "0: 640x384 (no detections), 154.8ms\n",
            "Speed: 2.8ms preprocess, 154.8ms inference, 0.8ms postprocess per image at shape (1, 3, 640, 384)\n",
            "\n"
          ]
        },
        {
          "output_type": "stream",
          "name": "stdout",
          "text": [
            "frame number 385\n",
            "frame number 386\n"
          ]
        },
        {
          "output_type": "stream",
          "name": "stderr",
          "text": [
            "0: 640x384 (no detections), 161.0ms\n",
            "Speed: 6.3ms preprocess, 161.0ms inference, 0.8ms postprocess per image at shape (1, 3, 640, 384)\n",
            "\n",
            "0: 640x384 (no detections), 154.4ms\n",
            "Speed: 3.9ms preprocess, 154.4ms inference, 0.8ms postprocess per image at shape (1, 3, 640, 384)\n",
            "\n"
          ]
        },
        {
          "output_type": "stream",
          "name": "stdout",
          "text": [
            "frame number 387\n",
            "frame number 388\n"
          ]
        },
        {
          "output_type": "stream",
          "name": "stderr",
          "text": [
            "0: 640x384 (no detections), 161.6ms\n",
            "Speed: 10.5ms preprocess, 161.6ms inference, 1.0ms postprocess per image at shape (1, 3, 640, 384)\n",
            "\n",
            "0: 640x384 (no detections), 170.3ms\n",
            "Speed: 3.5ms preprocess, 170.3ms inference, 1.0ms postprocess per image at shape (1, 3, 640, 384)\n"
          ]
        },
        {
          "output_type": "stream",
          "name": "stdout",
          "text": [
            "frame number 389\n"
          ]
        },
        {
          "output_type": "stream",
          "name": "stderr",
          "text": [
            "\n",
            "0: 640x384 (no detections), 166.1ms\n",
            "Speed: 3.2ms preprocess, 166.1ms inference, 0.9ms postprocess per image at shape (1, 3, 640, 384)\n"
          ]
        },
        {
          "output_type": "stream",
          "name": "stdout",
          "text": [
            "frame number 390\n"
          ]
        },
        {
          "output_type": "stream",
          "name": "stderr",
          "text": [
            "\n",
            "0: 640x384 (no detections), 177.5ms\n",
            "Speed: 5.0ms preprocess, 177.5ms inference, 1.2ms postprocess per image at shape (1, 3, 640, 384)\n"
          ]
        },
        {
          "output_type": "stream",
          "name": "stdout",
          "text": [
            "frame number 391\n"
          ]
        },
        {
          "output_type": "stream",
          "name": "stderr",
          "text": [
            "\n"
          ]
        },
        {
          "output_type": "stream",
          "name": "stdout",
          "text": [
            "frame number 392\n"
          ]
        },
        {
          "output_type": "stream",
          "name": "stderr",
          "text": [
            "0: 640x384 (no detections), 237.9ms\n",
            "Speed: 3.4ms preprocess, 237.9ms inference, 1.3ms postprocess per image at shape (1, 3, 640, 384)\n",
            "\n"
          ]
        },
        {
          "output_type": "stream",
          "name": "stdout",
          "text": [
            "frame number 393\n"
          ]
        },
        {
          "output_type": "stream",
          "name": "stderr",
          "text": [
            "0: 640x384 (no detections), 276.8ms\n",
            "Speed: 3.4ms preprocess, 276.8ms inference, 1.5ms postprocess per image at shape (1, 3, 640, 384)\n",
            "\n"
          ]
        },
        {
          "output_type": "stream",
          "name": "stdout",
          "text": [
            "frame number 394\n"
          ]
        },
        {
          "output_type": "stream",
          "name": "stderr",
          "text": [
            "0: 640x384 (no detections), 263.4ms\n",
            "Speed: 3.9ms preprocess, 263.4ms inference, 1.5ms postprocess per image at shape (1, 3, 640, 384)\n",
            "\n"
          ]
        },
        {
          "output_type": "stream",
          "name": "stdout",
          "text": [
            "frame number 395\n"
          ]
        },
        {
          "output_type": "stream",
          "name": "stderr",
          "text": [
            "0: 640x384 (no detections), 260.9ms\n",
            "Speed: 3.6ms preprocess, 260.9ms inference, 1.2ms postprocess per image at shape (1, 3, 640, 384)\n",
            "\n"
          ]
        },
        {
          "output_type": "stream",
          "name": "stdout",
          "text": [
            "frame number 396\n"
          ]
        },
        {
          "output_type": "stream",
          "name": "stderr",
          "text": [
            "0: 640x384 (no detections), 271.8ms\n",
            "Speed: 5.3ms preprocess, 271.8ms inference, 1.3ms postprocess per image at shape (1, 3, 640, 384)\n",
            "\n"
          ]
        },
        {
          "output_type": "stream",
          "name": "stdout",
          "text": [
            "frame number 397\n"
          ]
        },
        {
          "output_type": "stream",
          "name": "stderr",
          "text": [
            "0: 640x384 (no detections), 267.8ms\n",
            "Speed: 6.3ms preprocess, 267.8ms inference, 1.2ms postprocess per image at shape (1, 3, 640, 384)\n",
            "\n"
          ]
        },
        {
          "output_type": "stream",
          "name": "stdout",
          "text": [
            "frame number 398\n"
          ]
        },
        {
          "output_type": "stream",
          "name": "stderr",
          "text": [
            "0: 640x384 (no detections), 275.1ms\n",
            "Speed: 3.5ms preprocess, 275.1ms inference, 1.5ms postprocess per image at shape (1, 3, 640, 384)\n",
            "\n"
          ]
        },
        {
          "output_type": "stream",
          "name": "stdout",
          "text": [
            "frame number 399\n"
          ]
        },
        {
          "output_type": "stream",
          "name": "stderr",
          "text": [
            "0: 640x384 (no detections), 288.1ms\n",
            "Speed: 6.2ms preprocess, 288.1ms inference, 1.2ms postprocess per image at shape (1, 3, 640, 384)\n",
            "\n"
          ]
        },
        {
          "output_type": "stream",
          "name": "stdout",
          "text": [
            "frame number 400\n"
          ]
        },
        {
          "output_type": "stream",
          "name": "stderr",
          "text": [
            "0: 640x384 (no detections), 250.5ms\n",
            "Speed: 4.7ms preprocess, 250.5ms inference, 1.3ms postprocess per image at shape (1, 3, 640, 384)\n",
            "\n"
          ]
        },
        {
          "output_type": "stream",
          "name": "stdout",
          "text": [
            "frame number 401\n"
          ]
        },
        {
          "output_type": "stream",
          "name": "stderr",
          "text": [
            "0: 640x384 (no detections), 265.9ms\n",
            "Speed: 3.5ms preprocess, 265.9ms inference, 1.3ms postprocess per image at shape (1, 3, 640, 384)\n",
            "\n"
          ]
        },
        {
          "output_type": "stream",
          "name": "stdout",
          "text": [
            "frame number 402\n"
          ]
        },
        {
          "output_type": "stream",
          "name": "stderr",
          "text": [
            "0: 640x384 (no detections), 290.7ms\n",
            "Speed: 7.0ms preprocess, 290.7ms inference, 1.3ms postprocess per image at shape (1, 3, 640, 384)\n",
            "\n"
          ]
        },
        {
          "output_type": "stream",
          "name": "stdout",
          "text": [
            "frame number 403\n"
          ]
        },
        {
          "output_type": "stream",
          "name": "stderr",
          "text": [
            "0: 640x384 (no detections), 271.3ms\n",
            "Speed: 3.3ms preprocess, 271.3ms inference, 1.2ms postprocess per image at shape (1, 3, 640, 384)\n",
            "\n"
          ]
        },
        {
          "output_type": "stream",
          "name": "stdout",
          "text": [
            "frame number 404\n"
          ]
        },
        {
          "output_type": "stream",
          "name": "stderr",
          "text": [
            "0: 640x384 (no detections), 254.1ms\n",
            "Speed: 3.0ms preprocess, 254.1ms inference, 1.3ms postprocess per image at shape (1, 3, 640, 384)\n",
            "\n"
          ]
        },
        {
          "output_type": "stream",
          "name": "stdout",
          "text": [
            "frame number 405\n"
          ]
        },
        {
          "output_type": "stream",
          "name": "stderr",
          "text": [
            "0: 640x384 (no detections), 234.7ms\n",
            "Speed: 3.1ms preprocess, 234.7ms inference, 1.2ms postprocess per image at shape (1, 3, 640, 384)\n",
            "\n",
            "0: 640x384 (no detections), 170.8ms\n",
            "Speed: 3.5ms preprocess, 170.8ms inference, 1.0ms postprocess per image at shape (1, 3, 640, 384)\n"
          ]
        },
        {
          "output_type": "stream",
          "name": "stdout",
          "text": [
            "frame number 406\n"
          ]
        },
        {
          "output_type": "stream",
          "name": "stderr",
          "text": [
            "\n"
          ]
        },
        {
          "output_type": "stream",
          "name": "stdout",
          "text": [
            "frame number 407\n"
          ]
        },
        {
          "output_type": "stream",
          "name": "stderr",
          "text": [
            "0: 640x384 (no detections), 206.9ms\n",
            "Speed: 8.0ms preprocess, 206.9ms inference, 1.0ms postprocess per image at shape (1, 3, 640, 384)\n",
            "\n",
            "0: 640x384 (no detections), 173.7ms\n",
            "Speed: 3.9ms preprocess, 173.7ms inference, 1.1ms postprocess per image at shape (1, 3, 640, 384)\n"
          ]
        },
        {
          "output_type": "stream",
          "name": "stdout",
          "text": [
            "frame number 408\n"
          ]
        },
        {
          "output_type": "stream",
          "name": "stderr",
          "text": [
            "\n",
            "0: 640x384 (no detections), 179.6ms\n",
            "Speed: 4.5ms preprocess, 179.6ms inference, 1.1ms postprocess per image at shape (1, 3, 640, 384)\n"
          ]
        },
        {
          "output_type": "stream",
          "name": "stdout",
          "text": [
            "frame number 409\n"
          ]
        },
        {
          "output_type": "stream",
          "name": "stderr",
          "text": [
            "\n",
            "0: 640x384 (no detections), 178.2ms\n",
            "Speed: 3.6ms preprocess, 178.2ms inference, 1.0ms postprocess per image at shape (1, 3, 640, 384)\n"
          ]
        },
        {
          "output_type": "stream",
          "name": "stdout",
          "text": [
            "frame number 410\n"
          ]
        },
        {
          "output_type": "stream",
          "name": "stderr",
          "text": [
            "\n",
            "0: 640x384 (no detections), 169.5ms\n",
            "Speed: 3.5ms preprocess, 169.5ms inference, 1.1ms postprocess per image at shape (1, 3, 640, 384)\n"
          ]
        },
        {
          "output_type": "stream",
          "name": "stdout",
          "text": [
            "frame number 411\n"
          ]
        },
        {
          "output_type": "stream",
          "name": "stderr",
          "text": [
            "\n"
          ]
        },
        {
          "output_type": "stream",
          "name": "stdout",
          "text": [
            "frame number 412\n"
          ]
        },
        {
          "output_type": "stream",
          "name": "stderr",
          "text": [
            "0: 640x384 (no detections), 187.9ms\n",
            "Speed: 3.3ms preprocess, 187.9ms inference, 1.3ms postprocess per image at shape (1, 3, 640, 384)\n",
            "\n",
            "0: 640x384 (no detections), 169.0ms\n",
            "Speed: 4.4ms preprocess, 169.0ms inference, 1.2ms postprocess per image at shape (1, 3, 640, 384)\n"
          ]
        },
        {
          "output_type": "stream",
          "name": "stdout",
          "text": [
            "frame number 413\n"
          ]
        },
        {
          "output_type": "stream",
          "name": "stderr",
          "text": [
            "\n"
          ]
        },
        {
          "output_type": "stream",
          "name": "stdout",
          "text": [
            "frame number 414\n"
          ]
        },
        {
          "output_type": "stream",
          "name": "stderr",
          "text": [
            "0: 640x384 (no detections), 184.5ms\n",
            "Speed: 4.0ms preprocess, 184.5ms inference, 1.2ms postprocess per image at shape (1, 3, 640, 384)\n",
            "\n",
            "0: 640x384 (no detections), 179.4ms\n",
            "Speed: 7.3ms preprocess, 179.4ms inference, 1.3ms postprocess per image at shape (1, 3, 640, 384)\n"
          ]
        },
        {
          "output_type": "stream",
          "name": "stdout",
          "text": [
            "frame number 415\n"
          ]
        },
        {
          "output_type": "stream",
          "name": "stderr",
          "text": [
            "\n",
            "0: 640x384 (no detections), 176.1ms\n",
            "Speed: 3.7ms preprocess, 176.1ms inference, 1.1ms postprocess per image at shape (1, 3, 640, 384)\n"
          ]
        },
        {
          "output_type": "stream",
          "name": "stdout",
          "text": [
            "frame number 416\n"
          ]
        },
        {
          "output_type": "stream",
          "name": "stderr",
          "text": [
            "\n",
            "0: 640x384 (no detections), 181.5ms\n"
          ]
        },
        {
          "output_type": "stream",
          "name": "stdout",
          "text": [
            "frame number 417\n"
          ]
        },
        {
          "output_type": "stream",
          "name": "stderr",
          "text": [
            "Speed: 3.9ms preprocess, 181.5ms inference, 1.0ms postprocess per image at shape (1, 3, 640, 384)\n",
            "\n",
            "0: 640x384 (no detections), 176.7ms\n",
            "Speed: 11.6ms preprocess, 176.7ms inference, 1.0ms postprocess per image at shape (1, 3, 640, 384)\n"
          ]
        },
        {
          "output_type": "stream",
          "name": "stdout",
          "text": [
            "frame number 418\n"
          ]
        },
        {
          "output_type": "stream",
          "name": "stderr",
          "text": [
            "\n",
            "0: 640x384 (no detections), 165.2ms\n",
            "Speed: 3.6ms preprocess, 165.2ms inference, 0.8ms postprocess per image at shape (1, 3, 640, 384)\n"
          ]
        },
        {
          "output_type": "stream",
          "name": "stdout",
          "text": [
            "frame number 419\n"
          ]
        },
        {
          "output_type": "stream",
          "name": "stderr",
          "text": [
            "\n",
            "0: 640x384 (no detections), 167.6ms\n",
            "Speed: 3.1ms preprocess, 167.6ms inference, 1.3ms postprocess per image at shape (1, 3, 640, 384)\n"
          ]
        },
        {
          "output_type": "stream",
          "name": "stdout",
          "text": [
            "frame number 420\n"
          ]
        },
        {
          "output_type": "stream",
          "name": "stderr",
          "text": [
            "\n",
            "0: 640x384 (no detections), 173.3ms\n",
            "Speed: 3.0ms preprocess, 173.3ms inference, 1.2ms postprocess per image at shape (1, 3, 640, 384)\n"
          ]
        },
        {
          "output_type": "stream",
          "name": "stdout",
          "text": [
            "frame number 421\n"
          ]
        },
        {
          "output_type": "stream",
          "name": "stderr",
          "text": [
            "\n",
            "0: 640x384 (no detections), 167.5ms\n",
            "Speed: 3.3ms preprocess, 167.5ms inference, 0.9ms postprocess per image at shape (1, 3, 640, 384)\n"
          ]
        },
        {
          "output_type": "stream",
          "name": "stdout",
          "text": [
            "frame number 422\n"
          ]
        },
        {
          "output_type": "stream",
          "name": "stderr",
          "text": [
            "\n",
            "0: 640x384 (no detections), 180.0ms\n",
            "Speed: 3.3ms preprocess, 180.0ms inference, 1.9ms postprocess per image at shape (1, 3, 640, 384)\n"
          ]
        },
        {
          "output_type": "stream",
          "name": "stdout",
          "text": [
            "frame number 423\n"
          ]
        },
        {
          "output_type": "stream",
          "name": "stderr",
          "text": [
            "\n",
            "0: 640x384 (no detections), 174.0ms\n",
            "Speed: 2.9ms preprocess, 174.0ms inference, 0.8ms postprocess per image at shape (1, 3, 640, 384)\n"
          ]
        },
        {
          "output_type": "stream",
          "name": "stdout",
          "text": [
            "frame number 424\n"
          ]
        },
        {
          "output_type": "stream",
          "name": "stderr",
          "text": [
            "\n",
            "0: 640x384 (no detections), 178.5ms\n",
            "Speed: 3.3ms preprocess, 178.5ms inference, 0.8ms postprocess per image at shape (1, 3, 640, 384)\n"
          ]
        },
        {
          "output_type": "stream",
          "name": "stdout",
          "text": [
            "frame number 425\n"
          ]
        },
        {
          "output_type": "stream",
          "name": "stderr",
          "text": [
            "\n",
            "0: 640x384 (no detections), 163.0ms\n",
            "Speed: 3.2ms preprocess, 163.0ms inference, 0.8ms postprocess per image at shape (1, 3, 640, 384)\n"
          ]
        },
        {
          "output_type": "stream",
          "name": "stdout",
          "text": [
            "frame number 426\n"
          ]
        },
        {
          "output_type": "stream",
          "name": "stderr",
          "text": [
            "\n",
            "0: 640x384 (no detections), 166.6ms\n",
            "Speed: 3.5ms preprocess, 166.6ms inference, 0.9ms postprocess per image at shape (1, 3, 640, 384)\n"
          ]
        },
        {
          "output_type": "stream",
          "name": "stdout",
          "text": [
            "frame number 427\n"
          ]
        },
        {
          "output_type": "stream",
          "name": "stderr",
          "text": [
            "\n",
            "0: 640x384 (no detections), 180.4ms\n",
            "Speed: 3.0ms preprocess, 180.4ms inference, 1.1ms postprocess per image at shape (1, 3, 640, 384)\n"
          ]
        },
        {
          "output_type": "stream",
          "name": "stdout",
          "text": [
            "frame number 428\n"
          ]
        },
        {
          "output_type": "stream",
          "name": "stderr",
          "text": [
            "\n",
            "0: 640x384 (no detections), 177.8ms\n",
            "Speed: 3.7ms preprocess, 177.8ms inference, 1.0ms postprocess per image at shape (1, 3, 640, 384)\n"
          ]
        },
        {
          "output_type": "stream",
          "name": "stdout",
          "text": [
            "frame number 429\n"
          ]
        },
        {
          "output_type": "stream",
          "name": "stderr",
          "text": [
            "\n",
            "0: 640x384 (no detections), 179.9ms\n",
            "Speed: 3.5ms preprocess, 179.9ms inference, 1.0ms postprocess per image at shape (1, 3, 640, 384)\n"
          ]
        },
        {
          "output_type": "stream",
          "name": "stdout",
          "text": [
            "frame number 430\n",
            "frame number 431\n"
          ]
        }
      ]
    },
    {
      "cell_type": "code",
      "source": [
        "!rm results/surfboard/*\n",
        "!rm results/notsurfboard/*"
      ],
      "metadata": {
        "id": "2KaYVEj7cXGJ"
      },
      "execution_count": 117,
      "outputs": []
    },
    {
      "cell_type": "markdown",
      "source": [
        "# References:\n",
        "\n",
        "\n",
        "1. https://learnopencv.com/train-yolov8-on-custom-dataset/\n",
        "2. https://github.com/ultralytics/ultralytics\n",
        "3. https://www.youtube.com/shorts/QB8GMebrFXg\n",
        "\n"
      ],
      "metadata": {
        "id": "-oA_afWm3A1l"
      }
    },
    {
      "cell_type": "markdown",
      "source": [],
      "metadata": {
        "id": "j_ogg1Dn3FID"
      }
    }
  ]
}